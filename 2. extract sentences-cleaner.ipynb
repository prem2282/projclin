{
 "cells": [
  {
   "cell_type": "code",
   "execution_count": 1,
   "metadata": {},
   "outputs": [],
   "source": [
    "import spacy\n",
    "from spacy import displacy\n",
    "from spacy.tokens import Span\n",
    "import pandas as pd\n",
    "from pysbd.utils import PySBDFactory"
   ]
  },
  {
   "cell_type": "code",
   "execution_count": 2,
   "metadata": {},
   "outputs": [],
   "source": [
    "nlp = spacy.load('en_core_web_sm')"
   ]
  },
  {
   "cell_type": "code",
   "execution_count": 3,
   "metadata": {},
   "outputs": [],
   "source": [
    "#https://spacy.io/universe/project/python-sentence-boundary-disambiguation\n",
    "nlp.add_pipe(PySBDFactory(nlp), first=True)"
   ]
  },
  {
   "cell_type": "code",
   "execution_count": 4,
   "metadata": {},
   "outputs": [],
   "source": [
    "# Import the Matcher library\n",
    "from spacy.matcher import Matcher\n",
    "matcher = Matcher(nlp.vocab)"
   ]
  },
  {
   "cell_type": "code",
   "execution_count": 5,
   "metadata": {},
   "outputs": [],
   "source": [
    "myfile = open('extracted_criteria.csv')"
   ]
  },
  {
   "cell_type": "code",
   "execution_count": 6,
   "metadata": {},
   "outputs": [],
   "source": [
    "df = pd.read_csv('extracted_criteria.csv', sep='|')"
   ]
  },
  {
   "cell_type": "code",
   "execution_count": 7,
   "metadata": {},
   "outputs": [],
   "source": [
    "#converting data to string as some of them are in float and fails during next step (NLP)\n",
    "df['inclusion'] = [str(text) for text in df.inclusion]\n",
    "df['exclusion'] = [str(text) for text in df.exclusion]"
   ]
  },
  {
   "cell_type": "code",
   "execution_count": 8,
   "metadata": {},
   "outputs": [],
   "source": [
    "#Remove extra spaces between words"
   ]
  },
  {
   "cell_type": "code",
   "execution_count": 9,
   "metadata": {},
   "outputs": [],
   "source": [
    "df['inclusion'] = [' '.join(text.split()) for text in df.inclusion]\n",
    "df['exclusion'] = [' '.join(text.split()) for text in df.exclusion]"
   ]
  },
  {
   "cell_type": "code",
   "execution_count": 10,
   "metadata": {},
   "outputs": [],
   "source": [
    "#Create NLP document. NER is disabled as it is not required. Parser is required to do sentencing"
   ]
  },
  {
   "cell_type": "code",
   "execution_count": 11,
   "metadata": {},
   "outputs": [],
   "source": [
    "df['inclusion_doc'] = list(nlp.pipe(df['inclusion'],disable = ['ner']))\n",
    "df['exclusion_doc'] = list(nlp.pipe(df['exclusion'],disable = ['ner']))"
   ]
  },
  {
   "cell_type": "code",
   "execution_count": 12,
   "metadata": {},
   "outputs": [],
   "source": [
    "#Clean up by dropping invalid entries"
   ]
  },
  {
   "cell_type": "code",
   "execution_count": 13,
   "metadata": {},
   "outputs": [],
   "source": [
    "df = df.dropna()"
   ]
  },
  {
   "cell_type": "code",
   "execution_count": 14,
   "metadata": {},
   "outputs": [
    {
     "data": {
      "text/plain": [
       "(10000, 6)"
      ]
     },
     "execution_count": 14,
     "metadata": {},
     "output_type": "execute_result"
    }
   ],
   "source": [
    "df.shape"
   ]
  },
  {
   "cell_type": "code",
   "execution_count": 15,
   "metadata": {},
   "outputs": [],
   "source": [
    "# for each of the document\n",
    "   # for each of the sentence in the document\n",
    "        #just pass the text of the sentence\n",
    "#output will be a list of sentences as one list for each doc.\n",
    "#1 doc = 1 list (this list will contain all the sentences)"
   ]
  },
  {
   "cell_type": "code",
   "execution_count": 16,
   "metadata": {},
   "outputs": [],
   "source": [
    "df['inclusion'] = [list(sent.text for sent in doc.sents) for doc in [doc for doc in df['inclusion_doc']]]\n",
    "df['exclusion'] = [list(sent.text for sent in doc.sents) for doc in [doc for doc in df['exclusion_doc']]]"
   ]
  },
  {
   "cell_type": "code",
   "execution_count": 17,
   "metadata": {},
   "outputs": [],
   "source": [
    "#take out only the nct_id and the sentence list and create a new dataframe.\n",
    "#also create 1 row for each of the sentence keeping nct_id same for all the sentences"
   ]
  },
  {
   "cell_type": "code",
   "execution_count": 18,
   "metadata": {},
   "outputs": [],
   "source": [
    "inc_criteria_df =df[['inclusion','nct_id']].explode('inclusion')\n",
    "exc_criteria_df =df[['exclusion','nct_id']].explode('exclusion')"
   ]
  },
  {
   "cell_type": "code",
   "execution_count": 19,
   "metadata": {},
   "outputs": [],
   "source": [
    "inc_criteria_df = inc_criteria_df[inc_criteria_df['inclusion']  != 'nan']\n",
    "exc_criteria_df = exc_criteria_df[exc_criteria_df['exclusion']  != 'nan']"
   ]
  },
  {
   "cell_type": "code",
   "execution_count": 20,
   "metadata": {},
   "outputs": [
    {
     "name": "stdout",
     "output_type": "stream",
     "text": [
      "(10740, 2)\n",
      "(14693, 2)\n"
     ]
    }
   ],
   "source": [
    "print(inc_criteria_df.shape)\n",
    "print(exc_criteria_df.shape)\n"
   ]
  },
  {
   "cell_type": "code",
   "execution_count": 21,
   "metadata": {},
   "outputs": [],
   "source": [
    "inc_criteria_df.to_csv('inclusion_criteria_2.csv',sep = '|')"
   ]
  },
  {
   "cell_type": "code",
   "execution_count": 22,
   "metadata": {},
   "outputs": [],
   "source": [
    "exc_criteria_df.to_csv('exclusion_criteria_2.csv',sep = '|')"
   ]
  },
  {
   "cell_type": "code",
   "execution_count": 23,
   "metadata": {},
   "outputs": [
    {
     "data": {
      "text/html": [
       "<div>\n",
       "<style scoped>\n",
       "    .dataframe tbody tr th:only-of-type {\n",
       "        vertical-align: middle;\n",
       "    }\n",
       "\n",
       "    .dataframe tbody tr th {\n",
       "        vertical-align: top;\n",
       "    }\n",
       "\n",
       "    .dataframe thead th {\n",
       "        text-align: right;\n",
       "    }\n",
       "</style>\n",
       "<table border=\"1\" class=\"dataframe\">\n",
       "  <thead>\n",
       "    <tr style=\"text-align: right;\">\n",
       "      <th></th>\n",
       "      <th>inclusion</th>\n",
       "      <th>nct_id</th>\n",
       "    </tr>\n",
       "  </thead>\n",
       "  <tbody>\n",
       "    <tr>\n",
       "      <th>1</th>\n",
       "      <td>Inclusion Criteria:</td>\n",
       "      <td>NCT04464967</td>\n",
       "    </tr>\n",
       "    <tr>\n",
       "      <th>1</th>\n",
       "      <td>1. Aged ≥18 years old.</td>\n",
       "      <td>NCT04464967</td>\n",
       "    </tr>\n",
       "    <tr>\n",
       "      <th>1</th>\n",
       "      <td>2. Patients with Eastern Cooperative Oncology ...</td>\n",
       "      <td>NCT04464967</td>\n",
       "    </tr>\n",
       "    <tr>\n",
       "      <th>1</th>\n",
       "      <td>3. Patients must have histologically confirmed...</td>\n",
       "      <td>NCT04464967</td>\n",
       "    </tr>\n",
       "    <tr>\n",
       "      <th>1</th>\n",
       "      <td>4. Patients must have radiologically confirmed...</td>\n",
       "      <td>NCT04464967</td>\n",
       "    </tr>\n",
       "  </tbody>\n",
       "</table>\n",
       "</div>"
      ],
      "text/plain": [
       "                                           inclusion       nct_id\n",
       "1                                Inclusion Criteria:  NCT04464967\n",
       "1                             1. Aged ≥18 years old.  NCT04464967\n",
       "1  2. Patients with Eastern Cooperative Oncology ...  NCT04464967\n",
       "1  3. Patients must have histologically confirmed...  NCT04464967\n",
       "1  4. Patients must have radiologically confirmed...  NCT04464967"
      ]
     },
     "execution_count": 23,
     "metadata": {},
     "output_type": "execute_result"
    }
   ],
   "source": [
    "inc_criteria_df.head()"
   ]
  },
  {
   "cell_type": "code",
   "execution_count": 24,
   "metadata": {},
   "outputs": [
    {
     "data": {
      "text/html": [
       "<div>\n",
       "<style scoped>\n",
       "    .dataframe tbody tr th:only-of-type {\n",
       "        vertical-align: middle;\n",
       "    }\n",
       "\n",
       "    .dataframe tbody tr th {\n",
       "        vertical-align: top;\n",
       "    }\n",
       "\n",
       "    .dataframe thead th {\n",
       "        text-align: right;\n",
       "    }\n",
       "</style>\n",
       "<table border=\"1\" class=\"dataframe\">\n",
       "  <thead>\n",
       "    <tr style=\"text-align: right;\">\n",
       "      <th></th>\n",
       "      <th>exclusion</th>\n",
       "      <th>nct_id</th>\n",
       "    </tr>\n",
       "  </thead>\n",
       "  <tbody>\n",
       "    <tr>\n",
       "      <th>1</th>\n",
       "      <td>Exclusion Criteria: 1. Prior treatment with an...</td>\n",
       "      <td>NCT04464967</td>\n",
       "    </tr>\n",
       "    <tr>\n",
       "      <th>1</th>\n",
       "      <td>2. Patients with central nervous system involv...</td>\n",
       "      <td>NCT04464967</td>\n",
       "    </tr>\n",
       "    <tr>\n",
       "      <th>1</th>\n",
       "      <td>3. Patients with no other site for biopsy than...</td>\n",
       "      <td>NCT04464967</td>\n",
       "    </tr>\n",
       "    <tr>\n",
       "      <th>1</th>\n",
       "      <td>4. Patients with other concurrent severe and/o...</td>\n",
       "      <td>NCT04464967</td>\n",
       "    </tr>\n",
       "    <tr>\n",
       "      <th>1</th>\n",
       "      <td>5. Known history of human immunodeficiency vir...</td>\n",
       "      <td>NCT04464967</td>\n",
       "    </tr>\n",
       "  </tbody>\n",
       "</table>\n",
       "</div>"
      ],
      "text/plain": [
       "                                           exclusion       nct_id\n",
       "1  Exclusion Criteria: 1. Prior treatment with an...  NCT04464967\n",
       "1  2. Patients with central nervous system involv...  NCT04464967\n",
       "1  3. Patients with no other site for biopsy than...  NCT04464967\n",
       "1  4. Patients with other concurrent severe and/o...  NCT04464967\n",
       "1  5. Known history of human immunodeficiency vir...  NCT04464967"
      ]
     },
     "execution_count": 24,
     "metadata": {},
     "output_type": "execute_result"
    }
   ],
   "source": [
    "exc_criteria_df.head()"
   ]
  },
  {
   "cell_type": "code",
   "execution_count": 25,
   "metadata": {},
   "outputs": [
    {
     "name": "stdout",
     "output_type": "stream",
     "text": [
      "1       True\n",
      "1       True\n",
      "1       True\n",
      "1       True\n",
      "1       True\n",
      "        ... \n",
      "9998    True\n",
      "9998    True\n",
      "9998    True\n",
      "9998    True\n",
      "9998    True\n",
      "Name: inclusion, Length: 10740, dtype: bool\n"
     ]
    }
   ],
   "source": [
    "print(inc_criteria_df['inclusion']  != 'nan')"
   ]
  },
  {
   "cell_type": "code",
   "execution_count": null,
   "metadata": {},
   "outputs": [],
   "source": []
  }
 ],
 "metadata": {
  "kernelspec": {
   "display_name": "Python 3",
   "language": "python",
   "name": "python3"
  },
  "language_info": {
   "codemirror_mode": {
    "name": "ipython",
    "version": 3
   },
   "file_extension": ".py",
   "mimetype": "text/x-python",
   "name": "python",
   "nbconvert_exporter": "python",
   "pygments_lexer": "ipython3",
   "version": "3.7.7"
  }
 },
 "nbformat": 4,
 "nbformat_minor": 4
}
