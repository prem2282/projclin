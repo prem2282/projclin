{
 "cells": [
  {
   "cell_type": "code",
   "execution_count": 1,
   "metadata": {},
   "outputs": [],
   "source": [
    "import pandas as pd"
   ]
  },
  {
   "cell_type": "code",
   "execution_count": 2,
   "metadata": {},
   "outputs": [],
   "source": [
    "from stop_words import get_stop_words"
   ]
  },
  {
   "cell_type": "code",
   "execution_count": 3,
   "metadata": {},
   "outputs": [],
   "source": [
    "stop_words = get_stop_words('english')"
   ]
  },
  {
   "cell_type": "code",
   "execution_count": 11,
   "metadata": {},
   "outputs": [],
   "source": [
    "stop_words = stop_words + ['patient','inclusion','criteria','aren', 'can', 'couldn', 'didn', 'doesn', 'don', 'hadn', 'hasn', 'haven', 'isn', 'let', 'll', 'mustn', 're', 'shan', 'shouldn', 've', 'wasn', 'weren', 'won', 'wouldn']"
   ]
  },
  {
   "cell_type": "code",
   "execution_count": 12,
   "metadata": {},
   "outputs": [
    {
     "name": "stdout",
     "output_type": "stream",
     "text": [
      "['a', 'about', 'above', 'after', 'again', 'against', 'all', 'am', 'an', 'and', 'any', 'are', \"aren't\", 'as', 'at', 'be', 'because', 'been', 'before', 'being', 'below', 'between', 'both', 'but', 'by', \"can't\", 'cannot', 'could', \"couldn't\", 'did', \"didn't\", 'do', 'does', \"doesn't\", 'doing', \"don't\", 'down', 'during', 'each', 'few', 'for', 'from', 'further', 'had', \"hadn't\", 'has', \"hasn't\", 'have', \"haven't\", 'having', 'he', \"he'd\", \"he'll\", \"he's\", 'her', 'here', \"here's\", 'hers', 'herself', 'him', 'himself', 'his', 'how', \"how's\", 'i', \"i'd\", \"i'll\", \"i'm\", \"i've\", 'if', 'in', 'into', 'is', \"isn't\", 'it', \"it's\", 'its', 'itself', \"let's\", 'me', 'more', 'most', \"mustn't\", 'my', 'myself', 'no', 'nor', 'not', 'of', 'off', 'on', 'once', 'only', 'or', 'other', 'ought', 'our', 'ours', 'ourselves', 'out', 'over', 'own', 'same', \"shan't\", 'she', \"she'd\", \"she'll\", \"she's\", 'should', \"shouldn't\", 'so', 'some', 'such', 'than', 'that', \"that's\", 'the', 'their', 'theirs', 'them', 'themselves', 'then', 'there', \"there's\", 'these', 'they', \"they'd\", \"they'll\", \"they're\", \"they've\", 'this', 'those', 'through', 'to', 'too', 'under', 'until', 'up', 'very', 'was', \"wasn't\", 'we', \"we'd\", \"we'll\", \"we're\", \"we've\", 'were', \"weren't\", 'what', \"what's\", 'when', \"when's\", 'where', \"where's\", 'which', 'while', 'who', \"who's\", 'whom', 'why', \"why's\", 'with', \"won't\", 'would', \"wouldn't\", 'you', \"you'd\", \"you'll\", \"you're\", \"you've\", 'your', 'yours', 'yourself', 'yourselves', 'patient', 'inclusion', 'criteria', 'patient', 'inclusion', 'criteria', 'aren', 'can', 'couldn', 'didn', 'doesn', 'don', 'hadn', 'hasn', 'haven', 'isn', 'let', 'll', 'mustn', 're', 'shan', 'shouldn', 've', 'wasn', 'weren', 'won', 'wouldn']\n"
     ]
    }
   ],
   "source": [
    "print(stop_words)"
   ]
  },
  {
   "cell_type": "code",
   "execution_count": 13,
   "metadata": {},
   "outputs": [],
   "source": [
    "data = pd.read_csv('inclusion_criteria.csv',sep='|')"
   ]
  },
  {
   "cell_type": "code",
   "execution_count": 14,
   "metadata": {},
   "outputs": [
    {
     "data": {
      "text/html": [
       "<div>\n",
       "<style scoped>\n",
       "    .dataframe tbody tr th:only-of-type {\n",
       "        vertical-align: middle;\n",
       "    }\n",
       "\n",
       "    .dataframe tbody tr th {\n",
       "        vertical-align: top;\n",
       "    }\n",
       "\n",
       "    .dataframe thead th {\n",
       "        text-align: right;\n",
       "    }\n",
       "</style>\n",
       "<table border=\"1\" class=\"dataframe\">\n",
       "  <thead>\n",
       "    <tr style=\"text-align: right;\">\n",
       "      <th></th>\n",
       "      <th>Unnamed: 0</th>\n",
       "      <th>inclusion</th>\n",
       "      <th>nct_id</th>\n",
       "    </tr>\n",
       "  </thead>\n",
       "  <tbody>\n",
       "    <tr>\n",
       "      <th>0</th>\n",
       "      <td>0</td>\n",
       "      <td>Inclusion Criteria for Retention Phase: Indivi...</td>\n",
       "      <td>NCT04464980</td>\n",
       "    </tr>\n",
       "    <tr>\n",
       "      <th>1</th>\n",
       "      <td>0</td>\n",
       "      <td>1. 18 years of age or older;</td>\n",
       "      <td>NCT04464980</td>\n",
       "    </tr>\n",
       "    <tr>\n",
       "      <th>2</th>\n",
       "      <td>0</td>\n",
       "      <td>2. Meet DSM-5 criteria for current opioid use ...</td>\n",
       "      <td>NCT04464980</td>\n",
       "    </tr>\n",
       "    <tr>\n",
       "      <th>3</th>\n",
       "      <td>0</td>\n",
       "      <td>3. Seeking treatment for opioid use disorder a...</td>\n",
       "      <td>NCT04464980</td>\n",
       "    </tr>\n",
       "    <tr>\n",
       "      <th>4</th>\n",
       "      <td>0</td>\n",
       "      <td>4. If choosing buprenorphine, willing to be ra...</td>\n",
       "      <td>NCT04464980</td>\n",
       "    </tr>\n",
       "  </tbody>\n",
       "</table>\n",
       "</div>"
      ],
      "text/plain": [
       "   Unnamed: 0                                          inclusion       nct_id\n",
       "0           0  Inclusion Criteria for Retention Phase: Indivi...  NCT04464980\n",
       "1           0                       1. 18 years of age or older;  NCT04464980\n",
       "2           0  2. Meet DSM-5 criteria for current opioid use ...  NCT04464980\n",
       "3           0  3. Seeking treatment for opioid use disorder a...  NCT04464980\n",
       "4           0  4. If choosing buprenorphine, willing to be ra...  NCT04464980"
      ]
     },
     "execution_count": 14,
     "metadata": {},
     "output_type": "execute_result"
    }
   ],
   "source": [
    "data.head()"
   ]
  },
  {
   "cell_type": "code",
   "execution_count": null,
   "metadata": {},
   "outputs": [],
   "source": []
  },
  {
   "cell_type": "code",
   "execution_count": 15,
   "metadata": {},
   "outputs": [],
   "source": [
    "from sklearn.feature_extraction.text import CountVectorizer"
   ]
  },
  {
   "cell_type": "code",
   "execution_count": 16,
   "metadata": {},
   "outputs": [],
   "source": [
    "cv = CountVectorizer(max_df=0.80, min_df=2, stop_words=(stop_words),ngram_range=(1,3) )"
   ]
  },
  {
   "cell_type": "code",
   "execution_count": 17,
   "metadata": {},
   "outputs": [],
   "source": [
    "dtm = cv.fit_transform(data['inclusion'])"
   ]
  },
  {
   "cell_type": "code",
   "execution_count": 18,
   "metadata": {},
   "outputs": [
    {
     "data": {
      "text/plain": [
       "<17203x51428 sparse matrix of type '<class 'numpy.int64'>'\n",
       "\twith 422860 stored elements in Compressed Sparse Row format>"
      ]
     },
     "execution_count": 18,
     "metadata": {},
     "output_type": "execute_result"
    }
   ],
   "source": [
    "dtm"
   ]
  },
  {
   "cell_type": "code",
   "execution_count": 19,
   "metadata": {},
   "outputs": [],
   "source": [
    "from sklearn.decomposition import LatentDirichletAllocation"
   ]
  },
  {
   "cell_type": "code",
   "execution_count": 20,
   "metadata": {},
   "outputs": [],
   "source": [
    "LDA = LatentDirichletAllocation(n_components=40,random_state=42)"
   ]
  },
  {
   "cell_type": "code",
   "execution_count": 21,
   "metadata": {},
   "outputs": [
    {
     "data": {
      "text/plain": [
       "LatentDirichletAllocation(n_components=40, random_state=42)"
      ]
     },
     "execution_count": 21,
     "metadata": {},
     "output_type": "execute_result"
    }
   ],
   "source": [
    "# This can take awhile, we're dealing with a large amount of documents!\n",
    "LDA.fit(dtm)"
   ]
  },
  {
   "cell_type": "code",
   "execution_count": 22,
   "metadata": {},
   "outputs": [
    {
     "data": {
      "text/plain": [
       "51428"
      ]
     },
     "execution_count": 22,
     "metadata": {},
     "output_type": "execute_result"
    }
   ],
   "source": [
    "len(cv.get_feature_names())"
   ]
  },
  {
   "cell_type": "code",
   "execution_count": 23,
   "metadata": {},
   "outputs": [],
   "source": [
    "import random"
   ]
  },
  {
   "cell_type": "code",
   "execution_count": 24,
   "metadata": {},
   "outputs": [
    {
     "name": "stdout",
     "output_type": "stream",
     "text": [
      "130 diastolic bp\n",
      "10 meters\n",
      "10 worst\n",
      "115\n",
      "10 mg dl\n",
      "10º coronal\n",
      "104\n",
      "12 hours last\n",
      "100 mmhg\n",
      "10 platelet count\n"
     ]
    }
   ],
   "source": [
    "for i in range(10):\n",
    "    random_word_id = random.randint(0,599)\n",
    "    print(cv.get_feature_names()[random_word_id])"
   ]
  },
  {
   "cell_type": "code",
   "execution_count": 25,
   "metadata": {},
   "outputs": [
    {
     "data": {
      "text/plain": [
       "40"
      ]
     },
     "execution_count": 25,
     "metadata": {},
     "output_type": "execute_result"
    }
   ],
   "source": [
    "len(LDA.components_)"
   ]
  },
  {
   "cell_type": "code",
   "execution_count": 26,
   "metadata": {},
   "outputs": [
    {
     "data": {
      "text/plain": [
       "array([[0.025     , 0.025     , 0.025     , ..., 0.025     , 0.025     ,\n",
       "        0.025     ],\n",
       "       [0.025     , 0.025     , 0.025     , ..., 0.025     , 0.025     ,\n",
       "        0.025     ],\n",
       "       [0.025     , 0.025     , 0.025     , ..., 0.025     , 0.025     ,\n",
       "        0.025     ],\n",
       "       ...,\n",
       "       [0.025     , 0.025     , 0.025     , ..., 0.025     , 0.025     ,\n",
       "        0.025     ],\n",
       "       [0.025     , 0.025     , 2.05806579, ..., 0.025     , 0.025     ,\n",
       "        0.025     ],\n",
       "       [0.025     , 2.025     , 0.025     , ..., 0.025     , 0.025     ,\n",
       "        0.025     ]])"
      ]
     },
     "execution_count": 26,
     "metadata": {},
     "output_type": "execute_result"
    }
   ],
   "source": [
    "LDA.components_"
   ]
  },
  {
   "cell_type": "code",
   "execution_count": 27,
   "metadata": {},
   "outputs": [
    {
     "data": {
      "text/plain": [
       "51428"
      ]
     },
     "execution_count": 27,
     "metadata": {},
     "output_type": "execute_result"
    }
   ],
   "source": [
    "len(LDA.components_[0])"
   ]
  },
  {
   "cell_type": "code",
   "execution_count": 28,
   "metadata": {},
   "outputs": [],
   "source": [
    "single_topic = LDA.components_[0]"
   ]
  },
  {
   "cell_type": "code",
   "execution_count": 29,
   "metadata": {},
   "outputs": [
    {
     "data": {
      "text/plain": [
       "array([    0, 33124, 33125, ...,  4417, 21798, 33674], dtype=int64)"
      ]
     },
     "execution_count": 29,
     "metadata": {},
     "output_type": "execute_result"
    }
   ],
   "source": [
    "# Returns the indices that would sort this array.\n",
    "single_topic.argsort()"
   ]
  },
  {
   "cell_type": "code",
   "execution_count": 30,
   "metadata": {},
   "outputs": [
    {
     "data": {
      "text/plain": [
       "0.025"
      ]
     },
     "execution_count": 30,
     "metadata": {},
     "output_type": "execute_result"
    }
   ],
   "source": [
    "# Word least representative of this topic\n",
    "single_topic[322]"
   ]
  },
  {
   "cell_type": "code",
   "execution_count": 31,
   "metadata": {},
   "outputs": [
    {
     "data": {
      "text/plain": [
       "0.025"
      ]
     },
     "execution_count": 31,
     "metadata": {},
     "output_type": "execute_result"
    }
   ],
   "source": [
    "# Word most representative of this topic\n",
    "single_topic[255]"
   ]
  },
  {
   "cell_type": "code",
   "execution_count": 32,
   "metadata": {},
   "outputs": [
    {
     "data": {
      "text/plain": [
       "array([  727, 25389, 48120, 50942, 33725,  4432,  8576,  4417, 21798,\n",
       "       33674], dtype=int64)"
      ]
     },
     "execution_count": 32,
     "metadata": {},
     "output_type": "execute_result"
    }
   ],
   "source": [
    "# Top 10 words for this topic:\n",
    "single_topic.argsort()[-10:]"
   ]
  },
  {
   "cell_type": "code",
   "execution_count": 33,
   "metadata": {},
   "outputs": [],
   "source": [
    "top_word_indices = single_topic.argsort()[-10:]"
   ]
  },
  {
   "cell_type": "code",
   "execution_count": 34,
   "metadata": {},
   "outputs": [
    {
     "name": "stdout",
     "output_type": "stream",
     "text": [
      "18\n",
      "least\n",
      "unit\n",
      "years\n",
      "patients aged\n",
      "aged 18\n",
      "care\n",
      "aged\n",
      "hospital\n",
      "patients\n"
     ]
    }
   ],
   "source": [
    "for index in top_word_indices:\n",
    "    print(cv.get_feature_names()[index])"
   ]
  },
  {
   "cell_type": "code",
   "execution_count": 35,
   "metadata": {},
   "outputs": [],
   "source": [
    "def getTopicKeyWorkds():\n",
    "    keywords = []\n",
    "    for index,topic in enumerate(LDA.components_):\n",
    "        keywords.append([cv.get_feature_names()[i] for i in topic.argsort()[-15:]])\n",
    "#         print(f'THE TOP 10 WORDS FOR TOPIC #{index}')\n",
    "#         print([cv.get_feature_names()[i] for i in topic.argsort()[-15:]])\n",
    "#         print('\\n')\n",
    "    return keywords\n",
    "    "
   ]
  },
  {
   "cell_type": "code",
   "execution_count": 36,
   "metadata": {},
   "outputs": [],
   "source": [
    "topicKeywords = getTopicKeyWorkds() "
   ]
  },
  {
   "cell_type": "code",
   "execution_count": 37,
   "metadata": {},
   "outputs": [],
   "source": [
    "topicData = pd.DataFrame()"
   ]
  },
  {
   "cell_type": "code",
   "execution_count": 38,
   "metadata": {},
   "outputs": [],
   "source": [
    "#df['newcolumn'], df['newcolumn2'] = zip(tuple)\n",
    "\n",
    "topicData['topic'] = topicKeywords"
   ]
  },
  {
   "cell_type": "code",
   "execution_count": 39,
   "metadata": {},
   "outputs": [
    {
     "name": "stdout",
     "output_type": "stream",
     "text": [
      "0\n",
      "['university', 'aged 18 years', 'disease', 'patients aged 18', 'intensive', '18', 'least', 'unit', 'years', 'patients aged', 'aged 18', 'care', 'aged', 'hospital', 'patients']\n",
      "1\n",
      "['history', 'score', 'disease', 'hormonal contraception', 'subjects', 'clinical', 'bilateral', 'oral', 'following', 'treatment', 'knee', 'months', 'least', 'pain', 'patients']\n",
      "2\n",
      "['reaction rt', 'reaction rt pcr', 'without', 'minute', 'treatment', 'pressure', 'reverse', 'per', 'polymerase chain', 'polymerase chain reaction', 'normal', 'chain reaction', 'polymerase', 'reaction', 'chain']\n",
      "3\n",
      "['results', 'screening', 'significant', 'laboratory', 'physical examination', 'clinically', 'health', 'good', 'medical history', 'investigator', 'clinical', 'physical', 'history', 'examination', 'medical']\n",
      "4\n",
      "['subjects must', 'received', 'one following', 'measurable lesion', 'prior', 'following', 'treatment', 'subjects', 'chemotherapy', 'measurable', 'lesion', 'least one', 'must', 'one', 'least']\n",
      "5\n",
      "['willing able comply', 'ability', 'able comply', 'study procedures', 'follow', 'comply study', 'visits', 'willing able', 'requirements', 'protocol', 'procedures', 'able', 'comply', 'willing', 'study']\n",
      "6\n",
      "['disease', 'treatment', 'least', 'chemotherapy', 'function', 'past', 'patients', '12 months', 'adequate', 'per', '12', 'bone marrow', 'marrow', 'bone', 'months']\n",
      "7\n",
      "['speak', 'including', 'mother', 'standard', 'eligible', 'currently', 'study', 'patients', 'must', 'prior', 'english', 'least', 'treatment', 'participants', 'therapy']\n",
      "8\n",
      "['creatinine', 'function', 'dl', 'upper limit normal', 'limit normal', 'serum', 'ast', 'upper limit', 'alt', 'bilirubin', 'upper', 'limit', 'count', 'normal', 'uln']\n",
      "9\n",
      "['75 years', '45', '50 years', 'male', 'female', 'healthy', 'diagnosis', '50', '75', 'subjects', '18', 'years old', 'aged', 'old', 'years']\n",
      "10\n",
      "['internet', 'computed tomography', 'computed', 'imaging', 'healthy', 'diagnosed', 'type diabetes', 'tomography', 'non', 'surgery', 'study', 'access', 'diabetes', 'patients', 'type']\n",
      "11\n",
      "['12', 'bilateral', 'least months', 'methods', 'female', 'prior', 'contraceptive', 'male', 'must', 'last', 'contraception', 'use', 'least', 'study', 'months']\n",
      "12\n",
      "['meet following', 'treatment', 'must', 'men', 'meet', 'pd', 'will', 'included', 'study', 'following', 'cancer', 'surgery', 'women', 'eligible', 'patients']\n",
      "13\n",
      "['fraction lvef', 'cardiac', 'patients', 'treatment', 'left ventricular ejection', '50', 'ventricular ejection', 'ventricular ejection fraction', 'left ventricular', 'lvef', 'fraction', 'ejection', 'ejection fraction', 'ventricular', 'left']\n",
      "14\n",
      "['clinical', 'high', 'pain', 'eligible', 'defined', 'physician', 'treating', 'risk', 'history', 'least', 'prior', 'diagnosis', 'disease', 'treatment', 'patients']\n",
      "15\n",
      "['rt pcr', 'respiratory', 'rt', 'test', 'patients', 'confirmed', 'sars cov', 'cov', 'sars', 'pcr', 'positive', 'infection', 'covid 19', 'covid', '19']\n",
      "16\n",
      "['months', 'archival', 'sample', 'provide', 'available', 'tumor tissue', 'metastatic', 'therapy', 'samples', 'disease', 'treatment', 'patients', 'tissue', 'biopsy', 'tumor']\n",
      "17\n",
      "['days', 'dose', 'agree', 'use', 'contraception', 'pregnancy test', 'women', 'childbearing potential', 'negative', 'test', 'study', 'childbearing', 'pregnancy', 'must', 'potential']\n",
      "18\n",
      "['adequate organ function', 'adequate organ', 'positive', 'advanced', 'patients', 'metastatic', 'defined', 'organ function', 'her2', 'organ', 'adequate', 'function', 'breast cancer', 'cancer', 'breast']\n",
      "19\n",
      "['primary', 'methods', 'recist v1', 'per', 'per recist', 'pulmonary', 'v1', 'patients', 'glaucoma', 'must', 'liver', 'recist', 'measurable disease', 'measurable', 'disease']\n",
      "20\n",
      "['iv', 'therapy', 'contrast', 'scan', 'expected survival', 'patients', 'months', 'chest', 'least 18 years', 'least', 'least 18', 'expected', 'survival', 'mg', 'ct']\n",
      "21\n",
      "['expectancy months', 'life expectancy months', 'gestational', 'three', 'english', 'read', 'less', 'least', 'children', 'age', 'life expectancy', 'expectancy', 'weeks', 'months', 'life']\n",
      "22\n",
      "['willing', 'understand', 'sign', 'consent form', 'form', 'provide', 'signed', 'able', 'written informed consent', 'written informed', 'study', 'written', 'informed consent', 'informed', 'consent']\n",
      "23\n",
      "['prior', 'forced', 'ps', '75 years age', 'participate study', 'must', 'age 18 75', 'non', 'status', 'participate', '18 75 years', '18 75', '75 years', '75', 'study']\n",
      "24\n",
      "['subjects', 'within normal', 'days', 'normal', 'serum', 'syndrome', 'period', 'serum creatinine mg', 'creatinine', 'creatinine mg dl', 'creatinine mg', 'study', 'dl', 'mg', 'mg dl']\n",
      "25\n",
      "['age', 'without', 'mini', 'disease', 'state', 'mental', 'months', 'will', '18 80 years', 'least', '20', 'score', '18 80', '80 years', '80']\n",
      "26\n",
      "['female aged', 'male female', 'aged 18 years', '55 years', 'hiv', 'female', 'able', 'diagnosis', 'days', '55', 'male', 'years', '18', 'aged 18', 'aged']\n",
      "27\n",
      "['65 years', '65', '18 years old', '18 years age', 'patients', 'older', 'age 18 years', 'years age', 'years old', 'old', 'age 18', '18 years', 'age', '18', 'years']\n",
      "28\n",
      "['blood', 'blood pressure', 'histologically cytologically', 'metastatic', 'cytologically', 'mmhg', 'pressure', 'lung', 'carcinoma', 'cell', 'diagnosis', 'stage', 'histologically', 'cancer', 'confirmed']\n",
      "29\n",
      "['english speaking', 'affiliated social', 'english', 'security scheme', 'social security scheme', 'participate', 'health', 'scheme', 'speaking', 'patients', 'affiliated', 'study', 'social security', 'security', 'social']\n",
      "30\n",
      "['patients', 'ecog score', 'disease', 'moderate severe', 'history', 'diagnosis', 'present', 'surgery', 'injury', 'months', 'must', 'within', 'moderate', 'severe', 'score']\n",
      "31\n",
      "['participate', 'inclusive', 'age time', '18', 'patients', 'consent participate study', 'consent participate', 'consent', 'years age', 'time', 'age', 'male female', 'years', 'male', 'female']\n",
      "32\n",
      "['mechanical', 'heart failure', 'one', '24', 'ventilation', 'severe', 'disease', 'acute', 'respiratory', 'heart', 'patients', 'failure', 'within', 'oxygen', 'hours']\n",
      "33\n",
      "['eastern cooperative oncology', 'oncology group', 'eastern cooperative', 'eastern', 'cooperative', 'oncology', 'group', 'therapy', 'ecog performance status', 'ecog performance', 'prior', 'ecog', 'performance status', 'status', 'performance']\n",
      "34\n",
      "['30', 'mass index bmi', 'index bmi', '18', 'weight', 'body mass index', 'mass index', 'body mass', 'mass', 'kg m2', 'index', 'm2', 'bmi', 'body', 'kg']\n",
      "35\n",
      "['protocol', 'block', 'prior registration', 'within', 'within weeks prior', 'ecg', 'registration', 'within weeks', 'treatment', 'weeks prior', 'patients must', 'weeks', 'prior', 'patients', 'must']\n",
      "36\n",
      "['patients', 'least one', 'days', 'weeks', 'biopsy', 'within', 'baseline', 'disease', 'lesion', 'screening visit', 'one', 'must', 'visit', 'screening', 'least']\n",
      "37\n",
      "['days', 'tumor', 'patients', 'trial', 'start', 'locally', 'locally advanced', 'prior start', 'disease', 'knee', 'metastatic', 'advanced', 'total', 'adenocarcinoma', 'study']\n",
      "38\n",
      "['self', 'weeks', 'chemotherapy', 'received', 'line', 'first', 'prior', 'disease', 'least', 'pain', 'months', 'study', 'patients', 'therapy', 'treatment']\n",
      "39\n",
      "['60', 'entry', 'study entry', 'must', 'participation', 'prior', 'adequate', 'renal', 'creatinine clearance', 'clearance', 'ml min', 'ml', 'creatinine', 'study', 'min']\n"
     ]
    }
   ],
   "source": [
    "for index, data_ in enumerate(topicData['topic']):\n",
    "    print (index)\n",
    "    print (data_)"
   ]
  },
  {
   "cell_type": "code",
   "execution_count": 40,
   "metadata": {},
   "outputs": [
    {
     "data": {
      "text/plain": [
       "<17203x51428 sparse matrix of type '<class 'numpy.int64'>'\n",
       "\twith 422860 stored elements in Compressed Sparse Row format>"
      ]
     },
     "execution_count": 40,
     "metadata": {},
     "output_type": "execute_result"
    }
   ],
   "source": [
    "dtm"
   ]
  },
  {
   "cell_type": "code",
   "execution_count": 41,
   "metadata": {},
   "outputs": [
    {
     "data": {
      "text/plain": [
       "(17203, 51428)"
      ]
     },
     "execution_count": 41,
     "metadata": {},
     "output_type": "execute_result"
    }
   ],
   "source": [
    "dtm.shape "
   ]
  },
  {
   "cell_type": "code",
   "execution_count": 42,
   "metadata": {},
   "outputs": [
    {
     "data": {
      "text/plain": [
       "17203"
      ]
     },
     "execution_count": 42,
     "metadata": {},
     "output_type": "execute_result"
    }
   ],
   "source": [
    "len(data)"
   ]
  },
  {
   "cell_type": "code",
   "execution_count": 43,
   "metadata": {},
   "outputs": [],
   "source": [
    "topic_results = LDA.transform(dtm)"
   ]
  },
  {
   "cell_type": "code",
   "execution_count": 44,
   "metadata": {},
   "outputs": [
    {
     "data": {
      "text/plain": [
       "(17203, 40)"
      ]
     },
     "execution_count": 44,
     "metadata": {},
     "output_type": "execute_result"
    }
   ],
   "source": [
    "topic_results.shape"
   ]
  },
  {
   "cell_type": "code",
   "execution_count": 45,
   "metadata": {},
   "outputs": [
    {
     "data": {
      "text/plain": [
       "array([0.0015625 , 0.0015625 , 0.0015625 , 0.0015625 , 0.0015625 ,\n",
       "       0.0015625 , 0.0015625 , 0.0015625 , 0.0015625 , 0.0015625 ,\n",
       "       0.0015625 , 0.0015625 , 0.29183379, 0.0015625 , 0.0015625 ,\n",
       "       0.0015625 , 0.0015625 , 0.0015625 , 0.0015625 , 0.0015625 ,\n",
       "       0.0015625 , 0.08796231, 0.14199869, 0.0015625 , 0.0015625 ,\n",
       "       0.0015625 , 0.0015625 , 0.0015625 , 0.0015625 , 0.0015625 ,\n",
       "       0.0015625 , 0.0015625 , 0.0015625 , 0.0015625 , 0.0015625 ,\n",
       "       0.0015625 , 0.42195521, 0.0015625 , 0.0015625 , 0.0015625 ])"
      ]
     },
     "execution_count": 45,
     "metadata": {},
     "output_type": "execute_result"
    }
   ],
   "source": [
    "topic_results[0]"
   ]
  },
  {
   "cell_type": "code",
   "execution_count": 46,
   "metadata": {},
   "outputs": [
    {
     "data": {
      "text/plain": [
       "array([0.  , 0.  , 0.  , 0.  , 0.  , 0.  , 0.  , 0.  , 0.  , 0.  , 0.  ,\n",
       "       0.  , 0.29, 0.  , 0.  , 0.  , 0.  , 0.  , 0.  , 0.  , 0.  , 0.09,\n",
       "       0.14, 0.  , 0.  , 0.  , 0.  , 0.  , 0.  , 0.  , 0.  , 0.  , 0.  ,\n",
       "       0.  , 0.  , 0.  , 0.42, 0.  , 0.  , 0.  ])"
      ]
     },
     "execution_count": 46,
     "metadata": {},
     "output_type": "execute_result"
    }
   ],
   "source": [
    "topic_results[0].round(2)"
   ]
  },
  {
   "cell_type": "code",
   "execution_count": 47,
   "metadata": {},
   "outputs": [
    {
     "data": {
      "text/plain": [
       "36"
      ]
     },
     "execution_count": 47,
     "metadata": {},
     "output_type": "execute_result"
    }
   ],
   "source": [
    "topic_results[0].argmax()"
   ]
  },
  {
   "cell_type": "code",
   "execution_count": 48,
   "metadata": {},
   "outputs": [
    {
     "data": {
      "text/plain": [
       "array([36, 27, 16, ..., 32, 32, 32], dtype=int64)"
      ]
     },
     "execution_count": 48,
     "metadata": {},
     "output_type": "execute_result"
    }
   ],
   "source": [
    "topic_results.argmax(axis=1)"
   ]
  },
  {
   "cell_type": "code",
   "execution_count": 49,
   "metadata": {},
   "outputs": [
    {
     "data": {
      "text/plain": [
       "(17203, 3)"
      ]
     },
     "execution_count": 49,
     "metadata": {},
     "output_type": "execute_result"
    }
   ],
   "source": [
    "data.shape"
   ]
  },
  {
   "cell_type": "code",
   "execution_count": 50,
   "metadata": {},
   "outputs": [],
   "source": [
    "data['Topic'] = topic_results.argmax(axis=1)"
   ]
  },
  {
   "cell_type": "code",
   "execution_count": 51,
   "metadata": {},
   "outputs": [
    {
     "data": {
      "text/html": [
       "<div>\n",
       "<style scoped>\n",
       "    .dataframe tbody tr th:only-of-type {\n",
       "        vertical-align: middle;\n",
       "    }\n",
       "\n",
       "    .dataframe tbody tr th {\n",
       "        vertical-align: top;\n",
       "    }\n",
       "\n",
       "    .dataframe thead th {\n",
       "        text-align: right;\n",
       "    }\n",
       "</style>\n",
       "<table border=\"1\" class=\"dataframe\">\n",
       "  <thead>\n",
       "    <tr style=\"text-align: right;\">\n",
       "      <th></th>\n",
       "      <th>Unnamed: 0</th>\n",
       "      <th>inclusion</th>\n",
       "      <th>nct_id</th>\n",
       "      <th>Topic</th>\n",
       "    </tr>\n",
       "  </thead>\n",
       "  <tbody>\n",
       "    <tr>\n",
       "      <th>0</th>\n",
       "      <td>0</td>\n",
       "      <td>Inclusion Criteria for Retention Phase: Indivi...</td>\n",
       "      <td>NCT04464980</td>\n",
       "      <td>36</td>\n",
       "    </tr>\n",
       "    <tr>\n",
       "      <th>1</th>\n",
       "      <td>0</td>\n",
       "      <td>1. 18 years of age or older;</td>\n",
       "      <td>NCT04464980</td>\n",
       "      <td>27</td>\n",
       "    </tr>\n",
       "    <tr>\n",
       "      <th>2</th>\n",
       "      <td>0</td>\n",
       "      <td>2. Meet DSM-5 criteria for current opioid use ...</td>\n",
       "      <td>NCT04464980</td>\n",
       "      <td>16</td>\n",
       "    </tr>\n",
       "    <tr>\n",
       "      <th>3</th>\n",
       "      <td>0</td>\n",
       "      <td>3. Seeking treatment for opioid use disorder a...</td>\n",
       "      <td>NCT04464980</td>\n",
       "      <td>1</td>\n",
       "    </tr>\n",
       "    <tr>\n",
       "      <th>4</th>\n",
       "      <td>0</td>\n",
       "      <td>4. If choosing buprenorphine, willing to be ra...</td>\n",
       "      <td>NCT04464980</td>\n",
       "      <td>29</td>\n",
       "    </tr>\n",
       "    <tr>\n",
       "      <th>5</th>\n",
       "      <td>0</td>\n",
       "      <td>5. Willing to be randomized to either MM (stan...</td>\n",
       "      <td>NCT04464980</td>\n",
       "      <td>10</td>\n",
       "    </tr>\n",
       "    <tr>\n",
       "      <th>6</th>\n",
       "      <td>0</td>\n",
       "      <td>6. In good-enough general health (meaning good...</td>\n",
       "      <td>NCT04464980</td>\n",
       "      <td>10</td>\n",
       "    </tr>\n",
       "    <tr>\n",
       "      <th>7</th>\n",
       "      <td>0</td>\n",
       "      <td>7. Willing and able to provide written informe...</td>\n",
       "      <td>NCT04464980</td>\n",
       "      <td>22</td>\n",
       "    </tr>\n",
       "    <tr>\n",
       "      <th>8</th>\n",
       "      <td>0</td>\n",
       "      <td>8. Able to speak English sufficiently to under...</td>\n",
       "      <td>NCT04464980</td>\n",
       "      <td>22</td>\n",
       "    </tr>\n",
       "    <tr>\n",
       "      <th>9</th>\n",
       "      <td>0</td>\n",
       "      <td>9. If female of childbearing potential, willin...</td>\n",
       "      <td>NCT04464980</td>\n",
       "      <td>11</td>\n",
       "    </tr>\n",
       "  </tbody>\n",
       "</table>\n",
       "</div>"
      ],
      "text/plain": [
       "   Unnamed: 0                                          inclusion       nct_id  \\\n",
       "0           0  Inclusion Criteria for Retention Phase: Indivi...  NCT04464980   \n",
       "1           0                       1. 18 years of age or older;  NCT04464980   \n",
       "2           0  2. Meet DSM-5 criteria for current opioid use ...  NCT04464980   \n",
       "3           0  3. Seeking treatment for opioid use disorder a...  NCT04464980   \n",
       "4           0  4. If choosing buprenorphine, willing to be ra...  NCT04464980   \n",
       "5           0  5. Willing to be randomized to either MM (stan...  NCT04464980   \n",
       "6           0  6. In good-enough general health (meaning good...  NCT04464980   \n",
       "7           0  7. Willing and able to provide written informe...  NCT04464980   \n",
       "8           0  8. Able to speak English sufficiently to under...  NCT04464980   \n",
       "9           0  9. If female of childbearing potential, willin...  NCT04464980   \n",
       "\n",
       "   Topic  \n",
       "0     36  \n",
       "1     27  \n",
       "2     16  \n",
       "3      1  \n",
       "4     29  \n",
       "5     10  \n",
       "6     10  \n",
       "7     22  \n",
       "8     22  \n",
       "9     11  "
      ]
     },
     "execution_count": 51,
     "metadata": {},
     "output_type": "execute_result"
    }
   ],
   "source": [
    "data.head(10)"
   ]
  },
  {
   "cell_type": "code",
   "execution_count": 52,
   "metadata": {},
   "outputs": [
    {
     "data": {
      "text/html": [
       "<div>\n",
       "<style scoped>\n",
       "    .dataframe tbody tr th:only-of-type {\n",
       "        vertical-align: middle;\n",
       "    }\n",
       "\n",
       "    .dataframe tbody tr th {\n",
       "        vertical-align: top;\n",
       "    }\n",
       "\n",
       "    .dataframe thead th {\n",
       "        text-align: right;\n",
       "    }\n",
       "</style>\n",
       "<table border=\"1\" class=\"dataframe\">\n",
       "  <thead>\n",
       "    <tr style=\"text-align: right;\">\n",
       "      <th></th>\n",
       "      <th>Unnamed: 0</th>\n",
       "      <th>inclusion</th>\n",
       "      <th>nct_id</th>\n",
       "    </tr>\n",
       "    <tr>\n",
       "      <th>Topic</th>\n",
       "      <th></th>\n",
       "      <th></th>\n",
       "      <th></th>\n",
       "    </tr>\n",
       "  </thead>\n",
       "  <tbody>\n",
       "    <tr>\n",
       "      <th>0</th>\n",
       "      <td>1464</td>\n",
       "      <td>1464</td>\n",
       "      <td>1464</td>\n",
       "    </tr>\n",
       "    <tr>\n",
       "      <th>1</th>\n",
       "      <td>351</td>\n",
       "      <td>351</td>\n",
       "      <td>351</td>\n",
       "    </tr>\n",
       "    <tr>\n",
       "      <th>2</th>\n",
       "      <td>208</td>\n",
       "      <td>208</td>\n",
       "      <td>208</td>\n",
       "    </tr>\n",
       "    <tr>\n",
       "      <th>3</th>\n",
       "      <td>354</td>\n",
       "      <td>354</td>\n",
       "      <td>354</td>\n",
       "    </tr>\n",
       "    <tr>\n",
       "      <th>4</th>\n",
       "      <td>320</td>\n",
       "      <td>320</td>\n",
       "      <td>320</td>\n",
       "    </tr>\n",
       "    <tr>\n",
       "      <th>5</th>\n",
       "      <td>378</td>\n",
       "      <td>378</td>\n",
       "      <td>378</td>\n",
       "    </tr>\n",
       "    <tr>\n",
       "      <th>6</th>\n",
       "      <td>293</td>\n",
       "      <td>293</td>\n",
       "      <td>293</td>\n",
       "    </tr>\n",
       "    <tr>\n",
       "      <th>7</th>\n",
       "      <td>271</td>\n",
       "      <td>271</td>\n",
       "      <td>271</td>\n",
       "    </tr>\n",
       "    <tr>\n",
       "      <th>8</th>\n",
       "      <td>612</td>\n",
       "      <td>612</td>\n",
       "      <td>612</td>\n",
       "    </tr>\n",
       "    <tr>\n",
       "      <th>9</th>\n",
       "      <td>472</td>\n",
       "      <td>472</td>\n",
       "      <td>472</td>\n",
       "    </tr>\n",
       "    <tr>\n",
       "      <th>10</th>\n",
       "      <td>451</td>\n",
       "      <td>451</td>\n",
       "      <td>451</td>\n",
       "    </tr>\n",
       "    <tr>\n",
       "      <th>11</th>\n",
       "      <td>505</td>\n",
       "      <td>505</td>\n",
       "      <td>505</td>\n",
       "    </tr>\n",
       "    <tr>\n",
       "      <th>12</th>\n",
       "      <td>534</td>\n",
       "      <td>534</td>\n",
       "      <td>534</td>\n",
       "    </tr>\n",
       "    <tr>\n",
       "      <th>13</th>\n",
       "      <td>248</td>\n",
       "      <td>248</td>\n",
       "      <td>248</td>\n",
       "    </tr>\n",
       "    <tr>\n",
       "      <th>14</th>\n",
       "      <td>394</td>\n",
       "      <td>394</td>\n",
       "      <td>394</td>\n",
       "    </tr>\n",
       "    <tr>\n",
       "      <th>15</th>\n",
       "      <td>570</td>\n",
       "      <td>570</td>\n",
       "      <td>570</td>\n",
       "    </tr>\n",
       "    <tr>\n",
       "      <th>16</th>\n",
       "      <td>285</td>\n",
       "      <td>285</td>\n",
       "      <td>285</td>\n",
       "    </tr>\n",
       "    <tr>\n",
       "      <th>17</th>\n",
       "      <td>509</td>\n",
       "      <td>509</td>\n",
       "      <td>509</td>\n",
       "    </tr>\n",
       "    <tr>\n",
       "      <th>18</th>\n",
       "      <td>315</td>\n",
       "      <td>315</td>\n",
       "      <td>315</td>\n",
       "    </tr>\n",
       "    <tr>\n",
       "      <th>19</th>\n",
       "      <td>248</td>\n",
       "      <td>248</td>\n",
       "      <td>248</td>\n",
       "    </tr>\n",
       "    <tr>\n",
       "      <th>20</th>\n",
       "      <td>263</td>\n",
       "      <td>263</td>\n",
       "      <td>263</td>\n",
       "    </tr>\n",
       "    <tr>\n",
       "      <th>21</th>\n",
       "      <td>422</td>\n",
       "      <td>422</td>\n",
       "      <td>422</td>\n",
       "    </tr>\n",
       "    <tr>\n",
       "      <th>22</th>\n",
       "      <td>1193</td>\n",
       "      <td>1193</td>\n",
       "      <td>1193</td>\n",
       "    </tr>\n",
       "    <tr>\n",
       "      <th>23</th>\n",
       "      <td>239</td>\n",
       "      <td>239</td>\n",
       "      <td>239</td>\n",
       "    </tr>\n",
       "    <tr>\n",
       "      <th>24</th>\n",
       "      <td>212</td>\n",
       "      <td>212</td>\n",
       "      <td>212</td>\n",
       "    </tr>\n",
       "    <tr>\n",
       "      <th>25</th>\n",
       "      <td>318</td>\n",
       "      <td>318</td>\n",
       "      <td>318</td>\n",
       "    </tr>\n",
       "    <tr>\n",
       "      <th>26</th>\n",
       "      <td>397</td>\n",
       "      <td>397</td>\n",
       "      <td>397</td>\n",
       "    </tr>\n",
       "    <tr>\n",
       "      <th>27</th>\n",
       "      <td>1060</td>\n",
       "      <td>1060</td>\n",
       "      <td>1060</td>\n",
       "    </tr>\n",
       "    <tr>\n",
       "      <th>28</th>\n",
       "      <td>400</td>\n",
       "      <td>400</td>\n",
       "      <td>400</td>\n",
       "    </tr>\n",
       "    <tr>\n",
       "      <th>29</th>\n",
       "      <td>345</td>\n",
       "      <td>345</td>\n",
       "      <td>345</td>\n",
       "    </tr>\n",
       "    <tr>\n",
       "      <th>30</th>\n",
       "      <td>287</td>\n",
       "      <td>287</td>\n",
       "      <td>287</td>\n",
       "    </tr>\n",
       "    <tr>\n",
       "      <th>31</th>\n",
       "      <td>394</td>\n",
       "      <td>394</td>\n",
       "      <td>394</td>\n",
       "    </tr>\n",
       "    <tr>\n",
       "      <th>32</th>\n",
       "      <td>511</td>\n",
       "      <td>511</td>\n",
       "      <td>511</td>\n",
       "    </tr>\n",
       "    <tr>\n",
       "      <th>33</th>\n",
       "      <td>473</td>\n",
       "      <td>473</td>\n",
       "      <td>473</td>\n",
       "    </tr>\n",
       "    <tr>\n",
       "      <th>34</th>\n",
       "      <td>427</td>\n",
       "      <td>427</td>\n",
       "      <td>427</td>\n",
       "    </tr>\n",
       "    <tr>\n",
       "      <th>35</th>\n",
       "      <td>179</td>\n",
       "      <td>179</td>\n",
       "      <td>179</td>\n",
       "    </tr>\n",
       "    <tr>\n",
       "      <th>36</th>\n",
       "      <td>406</td>\n",
       "      <td>406</td>\n",
       "      <td>406</td>\n",
       "    </tr>\n",
       "    <tr>\n",
       "      <th>37</th>\n",
       "      <td>193</td>\n",
       "      <td>193</td>\n",
       "      <td>193</td>\n",
       "    </tr>\n",
       "    <tr>\n",
       "      <th>38</th>\n",
       "      <td>453</td>\n",
       "      <td>453</td>\n",
       "      <td>453</td>\n",
       "    </tr>\n",
       "    <tr>\n",
       "      <th>39</th>\n",
       "      <td>249</td>\n",
       "      <td>249</td>\n",
       "      <td>249</td>\n",
       "    </tr>\n",
       "  </tbody>\n",
       "</table>\n",
       "</div>"
      ],
      "text/plain": [
       "       Unnamed: 0  inclusion  nct_id\n",
       "Topic                               \n",
       "0            1464       1464    1464\n",
       "1             351        351     351\n",
       "2             208        208     208\n",
       "3             354        354     354\n",
       "4             320        320     320\n",
       "5             378        378     378\n",
       "6             293        293     293\n",
       "7             271        271     271\n",
       "8             612        612     612\n",
       "9             472        472     472\n",
       "10            451        451     451\n",
       "11            505        505     505\n",
       "12            534        534     534\n",
       "13            248        248     248\n",
       "14            394        394     394\n",
       "15            570        570     570\n",
       "16            285        285     285\n",
       "17            509        509     509\n",
       "18            315        315     315\n",
       "19            248        248     248\n",
       "20            263        263     263\n",
       "21            422        422     422\n",
       "22           1193       1193    1193\n",
       "23            239        239     239\n",
       "24            212        212     212\n",
       "25            318        318     318\n",
       "26            397        397     397\n",
       "27           1060       1060    1060\n",
       "28            400        400     400\n",
       "29            345        345     345\n",
       "30            287        287     287\n",
       "31            394        394     394\n",
       "32            511        511     511\n",
       "33            473        473     473\n",
       "34            427        427     427\n",
       "35            179        179     179\n",
       "36            406        406     406\n",
       "37            193        193     193\n",
       "38            453        453     453\n",
       "39            249        249     249"
      ]
     },
     "execution_count": 52,
     "metadata": {},
     "output_type": "execute_result"
    }
   ],
   "source": [
    "data.groupby(['Topic']).count()"
   ]
  },
  {
   "cell_type": "code",
   "execution_count": null,
   "metadata": {},
   "outputs": [],
   "source": []
  },
  {
   "cell_type": "code",
   "execution_count": 53,
   "metadata": {},
   "outputs": [],
   "source": [
    "sorted_data = data.sort_values(by=['Topic'])\n",
    "sorted_data.to_csv('topic_sorted2.csv',sep = '|')"
   ]
  },
  {
   "cell_type": "code",
   "execution_count": 54,
   "metadata": {},
   "outputs": [],
   "source": [
    "topicData.to_csv('topicKeywords2.csv',sep = '|')"
   ]
  },
  {
   "cell_type": "code",
   "execution_count": 55,
   "metadata": {},
   "outputs": [],
   "source": [
    "#Age_related = data[data['Topic']==7]"
   ]
  },
  {
   "cell_type": "code",
   "execution_count": 56,
   "metadata": {},
   "outputs": [],
   "source": [
    "#Age_related.to_csv('Age_related.csv',sep = '|')"
   ]
  },
  {
   "cell_type": "code",
   "execution_count": null,
   "metadata": {},
   "outputs": [],
   "source": []
  }
 ],
 "metadata": {
  "kernelspec": {
   "display_name": "Python 3",
   "language": "python",
   "name": "python3"
  },
  "language_info": {
   "codemirror_mode": {
    "name": "ipython",
    "version": 3
   },
   "file_extension": ".py",
   "mimetype": "text/x-python",
   "name": "python",
   "nbconvert_exporter": "python",
   "pygments_lexer": "ipython3",
   "version": "3.7.7"
  }
 },
 "nbformat": 4,
 "nbformat_minor": 4
}
