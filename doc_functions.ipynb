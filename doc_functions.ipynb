{
 "cells": [
  {
   "cell_type": "code",
   "execution_count": 29,
   "metadata": {},
   "outputs": [],
   "source": [
    "def token_attributes(doc):\n",
    "    for token in doc:\n",
    "        token._.has_therapy = 'therapy' in token.text\n",
    "        token._.has_treatment = 'treatment' in token.text\n",
    "    return doc"
   ]
  },
  {
   "cell_type": "code",
   "execution_count": 30,
   "metadata": {},
   "outputs": [],
   "source": [
    "def doc_attributes(doc):\n",
    "    doc._.has_therapy = any([token._.has_therapy for token in doc])\n",
    "    doc._.has_treatment = any([token._.has_treatment for token in doc])\n",
    "    doc._.has_diagnosis = any(['diagnos' in text for text in [token.text for token in doc]])\n",
    "    return doc"
   ]
  },
  {
   "cell_type": "code",
   "execution_count": 31,
   "metadata": {},
   "outputs": [],
   "source": [
    "def getDiseaseList(doc):\n",
    "    diseaseList = [ent.text for ent in doc.ents if ent.label_ == 'DISEASE']\n",
    "#     chemicalList = [ent.text for ent in doc.ents if ent.label_ == 'CHEMICAL']\n",
    "    \n",
    "    if len(diseaseList) == 0:\n",
    "        diseaseList = ''\n",
    "#     if len(chemicalList) == 0:\n",
    "#         chemicalList = ''\n",
    "        \n",
    "    doc._.diseaseList = diseaseList\n",
    "#     doc._.chemicalList = chemicalList\n",
    "    return doc"
   ]
  },
  {
   "cell_type": "code",
   "execution_count": 32,
   "metadata": {},
   "outputs": [],
   "source": [
    "def getTherapyList(doc):\n",
    "    nouns = [noun for noun in doc.noun_chunks]\n",
    "    therapy_list = [noun for noun in nouns if 'therapy' in noun.text.lower() ]\n",
    "    doc._.therapyList = therapy_list\n",
    "    return doc"
   ]
  },
  {
   "cell_type": "code",
   "execution_count": 33,
   "metadata": {},
   "outputs": [],
   "source": [
    "def getEthnicity(doc):\n",
    "#     print(doc.ents)\n",
    "    for ent in doc.ents:\n",
    "#         print(ent.label_)\n",
    "        if (ent.label_ == \"NORP\"):\n",
    "            doc._.ethnicity = ent.text\n",
    "    return doc"
   ]
  },
  {
   "cell_type": "code",
   "execution_count": 34,
   "metadata": {},
   "outputs": [],
   "source": [
    "def getDate(doc):\n",
    "#     print(doc.ents)\n",
    "    dateList = []\n",
    "    for ind, ent in enumerate(doc.ents):\n",
    "#         print(ent.label_)\n",
    "        if (ent.label_ == \"DATE\" or ent.label_ == 'AGE'):\n",
    "            if  doc.ents[ind - 1].label_ in ['ABOVE','BELOW']:\n",
    "                date = doc.ents[ind - 1].ent_id_ + \" \" + ent.text\n",
    "                dateList.append(date)\n",
    "            else:\n",
    "                date = ent.text    \n",
    "                dateList.append(date)\n",
    "#     for ind, ent in enumerate(doc.ents):\n",
    "#         if (ent.label_ == 'AGE_LABEL'):\n",
    "#             if doc.ents[ind + 1].label_ in ['ABOVE','BELOW']:\n",
    "#                 if doc.ents[ind + 2].text.is_digit:\n",
    "#                     date =  doc.ents[ind + 1].ent_id_ + \" \" + doc.ents[ind + 2].ent_id_\n",
    "    if len(dateList) > 0:\n",
    "        doc._.date = dateList\n",
    "    return doc"
   ]
  },
  {
   "cell_type": "code",
   "execution_count": 35,
   "metadata": {},
   "outputs": [],
   "source": [
    "def symbol_cleanup(col):\n",
    "    #column from a dataframe is the input\n",
    "    col = col.str.replace('≥',\" ≥ \")\n",
    "    col = col.str.replace('≤',\" ≤ \")\n",
    "    col = col.str.replace('<',\" < \")\n",
    "    col = col.str.replace('>',\" > \")\n",
    "    col = col.str.replace('=',\" = \")\n",
    "    col = col.str.replace('> =',\">=\")\n",
    "    col = col.str.replace('= >',\"=>\")\n",
    "    col = col.str.replace('< =',\"<=\")\n",
    "    col = col.str.replace('= <',\"=<\")\n",
    "\n",
    "\n",
    "    col = col.str.replace('⩾',\" ⩾ \")\n",
    "    col = col.str.replace('year',\" year\")\n",
    "    col = [' '.join(text.split()) for text in col]\n",
    "    return col"
   ]
  },
  {
   "cell_type": "code",
   "execution_count": 36,
   "metadata": {},
   "outputs": [],
   "source": [
    "genderPatterns = [{\"label\": \"GENDER\", \"pattern\": [{\"LOWER\": \"male\"}], \"id\":\"male\"},\n",
    "                  {\"label\": \"GENDER\", \"pattern\": [{\"LOWER\": \"men\"}], \"id\":\"male\"},\n",
    "                  {\"label\": \"GENDER\", \"pattern\": [{\"LOWER\": \"males\"}], \"id\":\"male\"},\n",
    "                  {\"label\": \"GENDER\", \"pattern\": [{\"LOWER\": \"man\"}], \"id\":\"male\"},\n",
    "                  {\"label\": \"GENDER\", \"pattern\": [{\"LOWER\": \"boy\"}], \"id\":\"male\"},\n",
    "                  {\"label\": \"GENDER\", \"pattern\": [{\"LOWER\": \"guy\"}], \"id\":\"male\"},\n",
    "                  {\"label\": \"GENDER\", \"pattern\": [{\"LOWER\": \"female\"}], \"id\":\"female\"},\n",
    "                  {\"label\": \"GENDER\", \"pattern\": [{\"LOWER\": \"women\"}], \"id\":\"female\"},\n",
    "                  {\"label\": \"GENDER\", \"pattern\": [{\"LOWER\": \"females\"}], \"id\":\"female\"},\n",
    "                  {\"label\": \"GENDER\", \"pattern\": [{\"LOWER\": \"girl\"}], \"id\":\"female\"},\n",
    "                  {\"label\": \"GENDER\", \"pattern\": [{\"LOWER\": \"girls\"}], \"id\":\"female\"},\n",
    "                  {\"label\": \"GENDER\", \"pattern\": [{\"LOWER\": \"woman\"}], \"id\":\"female\"}]"
   ]
  },
  {
   "cell_type": "code",
   "execution_count": 37,
   "metadata": {},
   "outputs": [],
   "source": [
    "agePatternsOld = [{\"label\": \"RANGE\", \"pattern\": [{\"LOWER\": \"aged\"},{\"LOWER\": \"between\", \"OP\":\"?\"},{\"IS_DIGIT\": True},{\"TEXT\": \"-\"},{\"IS_DIGIT\": True} ], \"id\":\"between\"},\n",
    "                   {\"label\": \"AGE_LABEL\", \"pattern\": [{\"POS\": \"ADJ\",\"OP\":\"?\"},{\"LOWER\": \"age\"}], \"id\":\"age\"},\n",
    "                   {\"label\": \"AGE_LABEL\", \"pattern\": [{\"LOWER\": \"aged\"}], \"id\":\"age\"},\n",
    "                   {\"label\": \"AGE_LABEL\", \"pattern\": [{\"LOWER\": \"ages\"}], \"id\":\"age\"},\n",
    "                   {\"label\": \"DATE_LABEL\", \"pattern\": [{\"LOWER\": \"years\"}], \"id\":\"year\"},\n",
    "                   {\"label\": \"DATE_LABEL\", \"pattern\": [{\"LOWER\": \"year\"}], \"id\":\"year\"},\n",
    "                   {\"label\": \"DATE_LABEL\", \"pattern\": [{\"LOWER\": \"months\"}], \"id\":\"month\"},\n",
    "                   {\"label\": \"DATE_LABEL\", \"pattern\": [{\"LOWER\": \"month\"}], \"id\":\"month\"},\n",
    "                   {\"label\": \"DATE_LABEL\", \"pattern\": [{\"LOWER\": \"weeks\"}], \"id\":\"week\"},\n",
    "                   {\"label\": \"DATE_LABEL\", \"pattern\": [{\"LOWER\": \"week\"}], \"id\":\"week\"},\n",
    "                   {\"label\": \"DATE_LABEL\", \"pattern\": [{\"LOWER\": \"days\"}], \"id\":\"week\"},\n",
    "                   {\"label\": \"DATE_LABEL\", \"pattern\": [{\"LOWER\": \"day\"}], \"id\":\"week\"},\n",
    "                   {\"label\": \"AGE_LABEL\", \"pattern\": [{\"LOWER\": \"old\"}], \"id\":\"old\"},\n",
    "                   {\"label\": \"AGE_LABEL\", \"pattern\": [{\"LOWER\": \"older\"}], \"id\":\"old\"},\n",
    "]"
   ]
  },
  {
   "cell_type": "code",
   "execution_count": 38,
   "metadata": {},
   "outputs": [],
   "source": [
    "agePatterns = [\n",
    "                   {\"label\": \"AGE_LABEL\", \"pattern\": [{\"LEMMA\": \"age\"}], \"id\":\"age\"},\n",
    "                   {\"label\": \"AGE_LABEL\", \"pattern\": [{\"LEMMA\": \"aged\"}], \"id\":\"age\"},\n",
    "                   {\"label\": \"DATE_LABEL\", \"pattern\": [{\"LEMMA\": \"year\"}], \"id\":\"year\"},\n",
    "                   {\"label\": \"DATE_LABEL\", \"pattern\": [{\"LEMMA\": \"month\"}], \"id\":\"month\"},\n",
    "                   {\"label\": \"DATE_LABEL\", \"pattern\": [{\"LEMMA\": \"week\"}], \"id\":\"week\"},\n",
    "                   {\"label\": \"DATE_LABEL\", \"pattern\": [{\"LEMMA\": \"day\"}], \"id\":\"week\"},\n",
    "                   {\"label\": \"AGE_LABEL\", \"pattern\": [{\"LEMMA\": \"old\"}], \"id\":\"old\"},\n",
    "]"
   ]
  },
  {
   "cell_type": "code",
   "execution_count": 39,
   "metadata": {},
   "outputs": [],
   "source": [
    "comparePatterns = [\n",
    "    {\"label\": \"ABOVE\", \"pattern\": [{\"TEXT\": \"≥\"}], \"id\":\"GE\"},\n",
    "    {\"label\": \"ABOVE\", \"pattern\": [{\"TEXT\": \"⩾\"}], \"id\":\"GE\"},\n",
    "    {\"label\": \"ABOVE\", \"pattern\": [{\"TEXT\": \">\"}], \"id\":\"G\"},\n",
    "    {\"label\": \"EQUAL\", \"pattern\": [{\"TEXT\": \"=\"}], \"id\":\"EQ\"},\n",
    "    {\"label\": \"ABOVE\", \"pattern\": [{\"TEXT\": \">\"},{\"TEXT\": \"=\"}], \"id\":\"GE\"},\n",
    "    {\"label\": \"ABOVE\", \"pattern\": [{\"TEXT\": \"=\"},{\"TEXT\": \">\"}], \"id\":\"GE\"},\n",
    "    {\"label\": \"BELOW\", \"pattern\": [{\"TEXT\": \"<\"},{\"TEXT\": \"=\"}], \"id\":\"LE\"},\n",
    "    {\"label\": \"BELOW\", \"pattern\": [{\"TEXT\": \"<\"}], \"id\":\"L\"},\n",
    "    {\"label\": \"BELOW\", \"pattern\": [{\"TEXT\": \"≤\"}], \"id\":\"LE\"},\n",
    "    {\"label\": \"ABOVE\", \"pattern\": [{\"LOWER\": \"over\"}], \"id\":\"G\"},\n",
    "    {\"label\": \"ABOVE\", \"pattern\": [{\"LOWER\": \"above\"}], \"id\":\"G\"},\n",
    "    {\"label\": \"BELOW\", \"pattern\": [{\"LOWER\": \"under\"}], \"id\":\"L\"},\n",
    "    {\"label\": \"BELOW\", \"pattern\": [{\"LOWER\": \"below\"}], \"id\":\"L\"},\n",
    "    {\"label\": \"BELOW\", \"pattern\": [{\"LOWER\": \"inferior\"},{\"LOWER\": \"to\"}], \"id\":\"L\"},\n",
    "    {\"label\": \"ABOVE\", \"pattern\": [{\"LOWER\": \"greater\"},{\"LOWER\": \"than\"}], \"id\":\"G\"},\n",
    "    {\"label\": \"ABOVE\", \"pattern\": [{\"LOWER\": \"more\"},{\"LOWER\": \"than\"}], \"id\":\"G\"},\n",
    "    {\"label\": \"BELOW\", \"pattern\": [{\"LOWER\": \"no\"},{\"LOWER\": \"more\"},{\"LOWER\": \"than\"}], \"id\":\"L\"},\n",
    "    {\"label\": \"ABOVE\", \"pattern\": [{\"LOWER\": \"at\"},{\"LOWER\": \"least\"}], \"id\":\"G\"},\n",
    "    {\"label\": \"ABOVE\", \"pattern\": [{\"LOWER\": \"at\"},{\"LOWER\": \"the\",\"OP\":\"?\"},{\"LOWER\": \"least\"}], \"id\":\"G\"},\n",
    "    {\"label\": \"ABOVE\", \"pattern\": [{\"LOWER\": \"at\"},{\"TEXT\": \"-\",\"OP\":\"?\"},{\"LOWER\": \"least\"}], \"id\":\"G\"},\n",
    "    {\"label\": \"ABOVE\", \"pattern\": [{\"LOWER\": \"atleast\"}], \"id\":\"G\"},\n",
    "    {\"label\": \"BELOW\", \"pattern\": [{\"LOWER\": \"lesser\"},{\"LOWER\": \"than\"}], \"id\":\"L\"},\n",
    "    {\"label\": \"ABOVE\", \"pattern\": [{\"LOWER\": \"or\"},{\"LOWER\": \"over\"}], \"id\":\"GE\"},\n",
    "    {\"label\": \"ABOVE\", \"pattern\": [{\"LOWER\": \"or\"},{\"LOWER\": \"greater\"}], \"id\":\"GE\"},\n",
    "    {\"label\": \"BELOW\", \"pattern\": [{\"LOWER\": \"or\"},{\"LOWER\": \"lesser\"}], \"id\":\"LE\"},\n",
    "    {\"label\": \"BELOW\", \"pattern\": [{\"LOWER\": \"or\"},{\"LOWER\": \"less\"}], \"id\":\"LE\"},\n",
    "    {\"label\": \"ABOVE\", \"pattern\": [{\"LOWER\": \"or\"},{\"LOWER\": \"above\"}], \"id\":\"G\"},\n",
    "    {\"label\": \"BELOW\", \"pattern\": [{\"LOWER\": \"or\"},{\"LOWER\": \"below\"}], \"id\":\"L\"},\n",
    "    {\"label\": \"EQUAL\", \"pattern\": [{\"LOWER\": \"equal\"},{\"LOWER\": \"to\",\"OP\":\"?\"}], \"id\":\"E\"},\n",
    "]"
   ]
  },
  {
   "cell_type": "code",
   "execution_count": 40,
   "metadata": {},
   "outputs": [],
   "source": [
    "rangePatterns = [\n",
    "    {\"label\": \"RANGE\", \"pattern\": [{\"LIKE_NUM\": True},{\"TEXT\": \"-\"},{\"LIKE_NUM\": True}], \"id\":\"range\"},\n",
    "    {\"label\": \"RANGE\", \"pattern\": [{\"LOWER\": \"from\",\"OP\":\"?\"},{\"IS_DIGIT\": True},{\"LOWER\": \"to\"},{\"IS_DIGIT\": True}], \"id\":\"range\"},\n",
    " ]"
   ]
  },
  {
   "cell_type": "code",
   "execution_count": 41,
   "metadata": {},
   "outputs": [],
   "source": [
    "numberPattern = [\n",
    "    {\"label\": \"VALUE\", \"pattern\": [{\"POS\": \"NUM\"}], \"id\":\"value\"},\n",
    "    {\"label\": \"S.NO\", \"pattern\": [{\"IS_SENT_START\": True,\"LIKE_NUM\": True },{\"IS_PUNCT\": True}], \"id\":\"value\"},\n",
    " ]"
   ]
  },
  {
   "cell_type": "code",
   "execution_count": 42,
   "metadata": {},
   "outputs": [],
   "source": [
    "occurancePattern = [\n",
    "    {\"label\": \"OCCURANCE\", \"pattern\": [{\"LEMMA\": \"occur\"}]},\n",
    "    {\"label\": \"OCCURANCE\", \"pattern\": [{\"LEMMA\": \"recur\"}]},\n",
    "    {\"label\": \"OCCURANCE\", \"pattern\": [{\"LEMMA\": \"progress\"}]},\n",
    "    {\"label\": \"OCCURANCE\", \"pattern\": [{\"LEMMA\": \"recurrence\"}]},\n",
    "    {\"label\": \"OCCURANCE\", \"pattern\": [{\"LEMMA\": \"recurrent\"}]},\n",
    "    {\"label\": \"OCCURANCE\", \"pattern\": [{\"LEMMA\": \"occurance\"}]},   \n",
    "    {\"label\": \"OCCURANCE\", \"pattern\": [{\"LEMMA\": \"progression\"}]},\n",
    "    {\"label\": \"OCCURANCE\", \"pattern\": [{\"LEMMA\": \"persistent\"}]},\n",
    "     {\"label\": \"OCCURANCE\", \"pattern\": [{\"LEMMA\": \"persistence\"}]},\n",
    " ]"
   ]
  },
  {
   "cell_type": "code",
   "execution_count": 43,
   "metadata": {},
   "outputs": [],
   "source": [
    "ecogPatterns = [{\"label\": \"ECOG\", \"pattern\": [{\"LOWER\": \"ecog\"}], \"id\":\"ECOG\"},\n",
    "                {\"label\": \"ECOG\", \"pattern\": [{\"LOWER\": \"eastern\",\"OP\":\"?\"},{\"LOWER\": \"cooperative\"},{\"LOWER\": \"oncology\"},{\"LOWER\": \"group\",\"OP\":\"?\"}], \"id\":\"ECOG\"},\n",
    "                {\"label\": \"KPS\", \"pattern\": [{\"LOWER\": \"kps\"}], \"id\":\"KPS\"},\n",
    "                {\"label\": \"KPS\", \"pattern\": [{\"LOWER\": \"karnofsky\"}], \"id\":\"KPS\"},\n",
    "                {\"label\": \"WHO\", \"pattern\": [{\"TEXT\": \"WHO\"}], \"id\":\"WHO\"},\n",
    "                {\"label\": \"WHO\", \"pattern\": [{\"LOWER\": \"world\"},{\"LOWER\": \"health\"},{\"LOWER\": \"organization\"},{\"LOWER\": \"score\",'OP':\"?\"}], \"id\":\"WHO\"},\n",
    "\n",
    "]"
   ]
  },
  {
   "cell_type": "code",
   "execution_count": 44,
   "metadata": {},
   "outputs": [],
   "source": [
    "lifePatterns = [{\"label\": \"LIFE EXP\", \"pattern\": [{\"LOWER\": \"life\"},{\"LOWER\": \"expectancy\"}], \"id\":\"LIFE EXP\"},\n",
    "                {\"label\": \"LIFE EXP\", \"pattern\": [{\"LOWER\": \"expected\"},{\"LOWER\": \"survival\"}], \"id\":\"LIFE EXP\"},\n",
    "                {\"label\": \"LIFE EXP\", \"pattern\": [{\"LOWER\": \"estimated\"},{\"LOWER\": \"survival\"}], \"id\":\"LIFE EXP\"},\n",
    "                {\"label\": \"LIFE EXP\", \"pattern\": [{\"LOWER\": \"expected\"},{\"LOWER\": \"to\"},{\"LOWER\": \"survive\"}], \"id\":\"LIFE EXP\"},\n",
    "]"
   ]
  },
  {
   "cell_type": "code",
   "execution_count": 45,
   "metadata": {},
   "outputs": [],
   "source": [
    "measurePatterns = [{\"label\": \"MEASURE\", \"pattern\": [{\"POS\": \"ADJ\", \"OP\":\"?\"},{\"LEMMA\": \"count\"}], \"id\":\"MEASURE\"},\n",
    "                   {\"label\": \"MEASURE\", \"pattern\": [{\"POS\": \"ADJ\", \"OP\":\"?\"},{\"LEMMA\": \"grade\"}], \"id\":\"MEASURE\"},\n",
    "                   {\"label\": \"MEASURE\", \"pattern\": [{\"POS\": \"ADJ\", \"OP\":\"?\"},{\"LEMMA\": \"score\"}], \"id\":\"MEASURE\"},\n",
    "                   {\"label\": \"MEASURE\", \"pattern\": [{\"POS\": \"ADJ\", \"OP\":\"?\"},{\"LEMMA\": \"stage\"}], \"id\":\"MEASURE\"},\n",
    "                   {\"label\": \"MEASURE\", \"pattern\": [{\"POS\": \"ADJ\", \"OP\":\"?\"},{\"LEMMA\": \"level\"}], \"id\":\"MEASURE\"},\n",
    "                   {\"label\": \"MEASURE\", \"pattern\": [{\"LOWER\": \"performance\"},{\"LOWER\": \"score\"}], \"id\":\"MEASURE\"},\n",
    "                   {\"label\": \"MEASURE\", \"pattern\": [{\"LOWER\": \"performance\"},{\"LOWER\": \"status\"}], \"id\":\"MEASURE\"},\n",
    "                   {\"label\": \"MEASURE\", \"pattern\": [{\"TEXT\": \"PS\"}], \"id\":\"MEASURE\"},\n",
    " ]"
   ]
  },
  {
   "cell_type": "code",
   "execution_count": 46,
   "metadata": {},
   "outputs": [],
   "source": [
    "severityPatterns = [{\"label\": \"SEVERITY\", \"pattern\": [{\"LEMMA\": \"mild\"}]},\n",
    "                    {\"label\": \"SEVERITY\", \"pattern\": [{\"LEMMA\": \"moderate\"}]},\n",
    "                    {\"label\": \"SEVERITY\", \"pattern\": [{\"LEMMA\": \"severe\"}]},\n",
    "                    {\"label\": \"SEVERITY\", \"pattern\": [{\"LEMMA\": \"advance\"}]},\n",
    "                    {\"label\": \"SEVERITY\", \"pattern\": [{\"POS\": \"ADJ\", \"OP\":\"*\"},{\"POS\": \"ADV\", \"OP\":\"*\"},{\"LEMMA\": \"advanced\"},{\"POS\": \"CCONJ\", \"OP\":\"*\"},{\"POS\": \"ADJ\", \"OP\":\"*\"}]},\n",
    " ]"
   ]
  },
  {
   "cell_type": "code",
   "execution_count": 47,
   "metadata": {},
   "outputs": [],
   "source": [
    "diagno_words = ['diagnosis','diagnose','symptom','symptomatic','confirm','prove','proven','suspect','exam','examine','examination']\n",
    "\n",
    "diagnosisPatterns = []\n",
    "for word in diagno_words:\n",
    "    pattern1 = {\n",
    "        \"label\" : \"DIAGNOSIS\",\n",
    "        \"pattern\" : [\n",
    "            {\"POS\":\"ADV\", \"OP\":\"*\"},\n",
    "            {\"POS\":\"CCONJ\", \"OP\":\"*\"},\n",
    "            {\"POS\":\"ADV\", \"OP\":\"*\"},\n",
    "            {\"LEMMA\":word},\n",
    "        ]\n",
    "    }\n",
    "    diagnosisPatterns.append(pattern1)\n",
    "    pattern2 = {\n",
    "        \"label\" : \"DIAGNOSIS\",\n",
    "        \"pattern\" : [\n",
    "            {\"POS\":\"ADJ\", \"OP\":\"*\"},\n",
    "            {\"POS\":\"CCONJ\", \"OP\":\"*\"},\n",
    "            {\"POS\":\"ADJ\", \"OP\":\"*\"},\n",
    "            {\"LEMMA\":word},\n",
    "        ]\n",
    "    }\n",
    "\n",
    "# diagnosisPatterns = [{\"label\": \"DIAGNOSIS\", \"pattern\": [{\"POS\": \"ADV\", \"OP\":\"*\"},{\"POS\": \"CCONJ\", \"OP\":\"*\"},{\"POS\": \"ADJ\", \"OP\":\"*\"},{\"LEMMA\": \"diagnosis\"}], \"id\":\"DIAGNOSIS\"},\n",
    "#                      {\"label\": \"DIAGNOSIS\", \"pattern\": [{\"POS\": \"ADV\", \"OP\":\"*\"},{\"POS\": \"CCONJ\", \"OP\":\"*\"},{\"LEMMA\": \"diagnosis\"}], \"id\":\"DIAGNOSIS\"},\n",
    "#                      {\"label\": \"DIAGNOSIS\", \"pattern\": [{\"POS\": \"ADV\", \"OP\":\"*\"},{\"POS\": \"CCONJ\", \"OP\":\"*\"},{\"LEMMA\": \"symptom\"}], \"id\":\"DIAGNOSIS\"},\n",
    "#                      {\"label\": \"DIAGNOSIS\", \"pattern\": [{\"POS\": \"ADV\", \"OP\":\"*\"},{\"POS\": \"CCONJ\", \"OP\":\"*\"},{\"LEMMA\": \"symptomatic\"}], \"id\":\"DIAGNOSIS\"},\n",
    "#                      {\"label\": \"DIAGNOSIS\", \"pattern\": [{\"POS\": \"ADV\", \"OP\":\"*\"},{\"POS\": \"CCONJ\", \"OP\":\"*\"},{\"LEMMA\": \"confirm\"}], \"id\":\"DIAGNOSIS\"},\n",
    "#                      {\"label\": \"DIAGNOSIS\", \"pattern\": [{\"POS\": \"ADV\", \"OP\":\"*\"},{\"POS\": \"CCONJ\", \"OP\":\"*\"},{\"LEMMA\": \"prove\"}], \"id\":\"DIAGNOSIS\"},\n",
    "#                      {\"label\": \"DIAGNOSIS\", \"pattern\": [{\"POS\": \"ADV\", \"OP\":\"*\"},{\"POS\": \"CCONJ\", \"OP\":\"*\"},{\"LEMMA\": \"proven\"}], \"id\":\"DIAGNOSIS\"},\n",
    "#                      {\"label\": \"DIAGNOSIS\", \"pattern\": [{\"POS\": \"ADV\", \"OP\":\"*\"},{\"POS\": \"CCONJ\", \"OP\":\"*\"},{\"LEMMA\": \"suspect\"}], \"id\":\"DIAGNOSIS\"},\n",
    "#                      {\"label\": \"DIAGNOSIS\", \"pattern\": [{\"POS\": \"ADV\", \"OP\":\"*\"},{\"POS\": \"CCONJ\", \"OP\":\"*\"},{\"LEMMA\": \"treat\"}], \"id\":\"DIAGNOSIS\"},\n",
    "#                      {\"label\": \"DIAGNOSIS\", \"pattern\": [{\"POS\": \"ADV\", \"OP\":\"*\"},{\"POS\": \"CCONJ\", \"OP\":\"*\"},{\"LEMMA\": \"diagnose\"}], \"id\":\"DIAGNOSIS\"},\n",
    "#                      {\"label\": \"DIAGNOSIS\", \"pattern\": [{\"POS\": \"ADV\", \"OP\":\"*\"},{\"POS\": \"CCONJ\", \"OP\":\"*\"},{\"LEMMA\": \"examine\"}], \"id\":\"DIAGNOSIS\"},\n",
    "#                      {\"label\": \"DIAGNOSIS\", \"pattern\": [{\"POS\": \"ADV\", \"OP\":\"*\"},{\"POS\": \"CCONJ\", \"OP\":\"*\"},{\"LEMMA\": \"examination\"}], \"id\":\"DIAGNOSIS\"},\n",
    "#                      {\"label\": \"DIAGNOSIS\", \"pattern\": [{\"POS\": \"ADV\", \"OP\":\"*\"},{\"POS\": \"CCONJ\", \"OP\":\"*\"},{\"POS\": \"CCONJ\", \"OP\":\"?\"},{\"POS\": \"ADJ\", \"OP\":\"?\"},{\"LEMMA\": \"confirmation\"}], \"id\":\"DIAGNOSIS\"},\n",
    "#  ]"
   ]
  },
  {
   "cell_type": "code",
   "execution_count": 48,
   "metadata": {},
   "outputs": [],
   "source": [
    "cancerPatterns    = [\n",
    "                     {\"label\": \"DISEASE\", \"pattern\": [{\"POS\": \"ADJ\", \"OP\":\"*\"},{\"LEMMA\": \"disease\"}], \"id\":\"DISEASE\"},\n",
    "                     {\"label\": \"DISEASE\", \"pattern\": [{\"POS\": \"ADJ\", \"OP\":\"*\"},{\"LEMMA\": \"disorder\"}], \"id\":\"DISEASE\"},\n",
    "                     {\"label\": \"DISEASE\", \"pattern\": [{\"POS\": \"ADJ\", \"OP\":\"*\"},{\"LEMMA\": \"infection\"}], \"id\":\"DISEASE\"},\n",
    "                     {\"label\": \"DISEASE\", \"pattern\": [{\"POS\": \"ADJ\", \"OP\":\"*\"},{\"POS\": \"CCONJ\", \"OP\":\"*\"},{\"POS\": \"ADJ\", \"OP\":\"*\"},{\"LEMMA\": \"disease\"}], \"id\":\"DISEASE\"},\n",
    "\n",
    "                     {\"label\": \"DISEASE\", \"pattern\": [{\"POS\": \"ADJ\", \"OP\":\"?\"},{\"LEMMA\": \"cancer\"}], \"id\":\"DIAGNOSIS\"},\n",
    "                     {\"label\": \"DISEASE\", \"pattern\": [{\"POS\": \"ADJ\", \"OP\":\"?\"},{\"POS\": \"ADJ\", \"OP\":\"?\"},{\"LEMMA\": \"cancer\"}], \"id\":\"DIAGNOSIS\"},\n",
    "                     {\"label\": \"DISEASE\", \"pattern\": [{\"POS\": \"ADJ\", \"OP\":\"?\"},{\"POS\": \"NOUN\", \"OP\":\"*\"},{\"LEMMA\": \"cancer\"}], \"id\":\"DIAGNOSIS\"},\n",
    "                     {\"label\": \"DISEASE\", \"pattern\": [{\"POS\": \"NOUN\", \"OP\":\"?\"},{\"POS\": \"ADJ\", \"OP\":\"?\"},{\"LEMMA\": \"cancer\"}], \"id\":\"DIAGNOSIS\"},\n",
    "                     {\"label\": \"DISEASE\", \"pattern\": [{\"POS\": \"ADJ\", \"OP\":\"?\"},{\"POS\": \"NOUN\", \"OP\":\"*\"},{\"LEMMA\": \"metastasis\"}], \"id\":\"DIAGNOSIS\"},\n",
    " ]"
   ]
  },
  {
   "cell_type": "code",
   "execution_count": 49,
   "metadata": {},
   "outputs": [],
   "source": [
    "therapyPatterns    = [{\"label\": \"THERAPY\", \"pattern\": [{\"POS\": \"ADJ\", \"OP\":\"*\"},{\"POS\": \"NOUN\", \"OP\":\"*\"},{\"LEMMA\": \"therapy\"}], \"id\":\"THERAPY\"},\n",
    "                      {\"label\": \"THERAPY\", \"pattern\": [{\"POS\": \"NOUN\", \"OP\":\"*\"},{\"LEMMA\": \"therapy\"}], \"id\":\"THERAPY\"},\n",
    "                      {\"label\": \"THERAPY\", \"pattern\": [{\"_\": {\"has_therapy\":True}}], \"id\":\"THERAPY\"},\n",
    "  ]"
   ]
  },
  {
   "cell_type": "code",
   "execution_count": 50,
   "metadata": {},
   "outputs": [],
   "source": [
    "treatmentPatterns    = [{\"label\": \"TREATMENT\", \"pattern\": [{\"POS\": \"ADJ\", \"OP\":\"?\"},{\"LEMMA\": \"receive\"}], \"id\":\"TREATMENT\"},\n",
    "                      {\"label\": \"TREATMENT\", \"pattern\": [{\"POS\": \"NOUN\", \"OP\":\"?\"},{\"LEMMA\": \"treatment\"}], \"id\":\"TREATMENT\"},\n",
    "  ]"
   ]
  },
  {
   "cell_type": "code",
   "execution_count": 51,
   "metadata": {},
   "outputs": [],
   "source": [
    "subjectPatterns    = [{\"label\": \"SUBJECT\", \"pattern\": [{\"LEMMA\": \"patient\"}], \"id\":\"SUBJECT\"},\n",
    "                     {\"label\": \"SUBJECT\", \"pattern\": [{\"LEMMA\": \"subject\"}], \"id\":\"SUBJECT\"},\n",
    "                     {\"label\": \"SUBJECT\", \"pattern\": [{\"LEMMA\": \"person\"}], \"id\":\"SUBJECT\"},\n",
    "                      {\"label\": \"SUBJECT\", \"pattern\": [{\"LEMMA\": \"participant\"}], \"id\":\"SUBJECT\"},\n",
    "                     \n",
    " ]"
   ]
  },
  {
   "cell_type": "code",
   "execution_count": 52,
   "metadata": {},
   "outputs": [],
   "source": [
    "methodPatterns    = [{\"label\": \"METHOD\", \"pattern\": [{\"POS\": \"ADJ\", \"OP\":\"?\"},{\"POS\": \"NOUN\", \"OP\":\"*\"},{\"LEMMA\": \"scan\"}], \"id\":\"METHOD\"},\n",
    "\n",
    " ]"
   ]
  },
  {
   "cell_type": "code",
   "execution_count": 53,
   "metadata": {},
   "outputs": [],
   "source": [
    "unitPatterns    = [{\"label\": \"UNIT\", \"pattern\": [{\"POS\": \"NOUN\", \"OP\":\"?\"},{\"TEXT\": \"ULN\"}], \"id\":\"UNIT\"},\n",
    "                   {\"label\": \"UNIT\", \"pattern\": [{\"LOWER\": \"x\", \"OP\":\"?\"},{\"TEXT\": \"ULN\"}], \"id\":\"UNIT\"},\n",
    "                   {\"label\": \"UNIT\", \"pattern\": [{\"POS\": \"NOUN\", \"OP\":\"?\"},{\"TEXT\": \"UNL\"}], \"id\":\"UNIT\"},\n",
    "                   {\"label\": \"UNIT\", \"pattern\": [{\"LOWER\": \"x\", \"OP\":\"?\"},{\"TEXT\": \"UNL\"}], \"id\":\"UNIT\"},\n",
    "                     {\"label\": \"UNIT\", \"pattern\": [{\"LEMMA\": \"upper\"},{\"LEMMA\": \"limit\"},{\"LEMMA\": \"of\",\"OP\":\"?\"},{\"LEMMA\": \"normal\"}], \"id\":\"SUBJECT\"},                    \n",
    " ]"
   ]
  },
  {
   "cell_type": "code",
   "execution_count": 54,
   "metadata": {},
   "outputs": [],
   "source": [
    "eligibilityPatterns    = [{\"label\": \"ELIGIBILITY\", \"pattern\": [{\"POS\": \"PART\", \"OP\":\"?\"},{\"lemma\": \"eligible\"}], \"id\":\"UNIT\"},\n",
    "                          {\"label\": \"ELIGIBILITY\", \"pattern\": [{\"POS\": \"DET\", \"OP\":\"?\"},{\"lemma\": \"eligible\"}], \"id\":\"UNIT\"},\n",
    "                          {\"label\": \"ELIGIBILITY\", \"pattern\": [{\"POS\": \"PART\", \"OP\":\"?\"},{\"lemma\": \"ineligible\"}], \"id\":\"UNIT\"},\n",
    " ]"
   ]
  },
  {
   "cell_type": "code",
   "execution_count": 55,
   "metadata": {},
   "outputs": [],
   "source": [
    "diagTermPattern = [\n",
    "    {\"label\": \"DIAGTERM\", \"pattern\": [{\"ENT_TYPE\": \"DIAGNOSIS\"},{\"LOWER\": \"of\"},{\"LOWER\": \"the\"}], \"id\":\"DIAGTERM\"},\n",
    "]"
   ]
  },
  {
   "cell_type": "code",
   "execution_count": 56,
   "metadata": {},
   "outputs": [],
   "source": [
    "#{\"label\": \"UNIT\", \"pattern\": [{\"LEMMA\": \"upper\"},{\"LEMMA\": \"limit\"},{\"LEMMA\": \"of\",\"OP\":\"?\"},{\"LEMMA\": \"normal\"}], \"id\":\"SUBJECT\"},                   \n",
    "def getPatterns(removedLookup):\n",
    "    patternList = []\n",
    "    for index, text in removedLookup.iterrows():\n",
    "\n",
    "        condition_list = []\n",
    "\n",
    "\n",
    "        text1  = \"one two three\"\n",
    "        wordlist = text.text1.split()\n",
    "\n",
    "        condition_list = [{\"LOWER\":word.lower()} for word in wordlist]\n",
    "\n",
    "        pattern = {\n",
    "            \"label\": text.cat1,\n",
    "            \"pattern\" : condition_list\n",
    "        }\n",
    "        patternList.append(pattern)\n",
    "    return patternList"
   ]
  },
  {
   "cell_type": "code",
   "execution_count": null,
   "metadata": {},
   "outputs": [],
   "source": []
  }
 ],
 "metadata": {
  "kernelspec": {
   "display_name": "Python 3",
   "language": "python",
   "name": "python3"
  },
  "language_info": {
   "codemirror_mode": {
    "name": "ipython",
    "version": 3
   },
   "file_extension": ".py",
   "mimetype": "text/x-python",
   "name": "python",
   "nbconvert_exporter": "python",
   "pygments_lexer": "ipython3",
   "version": "3.7.7"
  }
 },
 "nbformat": 4,
 "nbformat_minor": 4
}
