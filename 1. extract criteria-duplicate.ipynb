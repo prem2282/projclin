{
 "cells": [
  {
   "cell_type": "code",
   "execution_count": 1,
   "metadata": {},
   "outputs": [],
   "source": [
    "import spacy\n",
    "from spacy import displacy\n",
    "from spacy.tokens import Span\n",
    "import pandas as pd"
   ]
  },
  {
   "cell_type": "code",
   "execution_count": 2,
   "metadata": {},
   "outputs": [],
   "source": [
    "nlp = spacy.load('en_core_web_sm')"
   ]
  },
  {
   "cell_type": "code",
   "execution_count": 3,
   "metadata": {},
   "outputs": [],
   "source": [
    "# Import the Matcher library\n",
    "from spacy.matcher import Matcher\n",
    "matcher = Matcher(nlp.vocab)"
   ]
  },
  {
   "cell_type": "code",
   "execution_count": 4,
   "metadata": {},
   "outputs": [],
   "source": [
    "myfile = 'D:\\\\Users\\\\Prem2282@gmail.com\\\\Projects\\\\Python\\\\clinical data\\\\eligibilities.txt'"
   ]
  },
  {
   "cell_type": "code",
   "execution_count": 5,
   "metadata": {},
   "outputs": [],
   "source": [
    "df = pd.read_csv(myfile, sep='|')"
   ]
  },
  {
   "cell_type": "code",
   "execution_count": 6,
   "metadata": {},
   "outputs": [
    {
     "data": {
      "text/html": [
       "<div>\n",
       "<style scoped>\n",
       "    .dataframe tbody tr th:only-of-type {\n",
       "        vertical-align: middle;\n",
       "    }\n",
       "\n",
       "    .dataframe tbody tr th {\n",
       "        vertical-align: top;\n",
       "    }\n",
       "\n",
       "    .dataframe thead th {\n",
       "        text-align: right;\n",
       "    }\n",
       "</style>\n",
       "<table border=\"1\" class=\"dataframe\">\n",
       "  <thead>\n",
       "    <tr style=\"text-align: right;\">\n",
       "      <th></th>\n",
       "      <th>id</th>\n",
       "      <th>nct_id</th>\n",
       "      <th>sampling_method</th>\n",
       "      <th>gender</th>\n",
       "      <th>minimum_age</th>\n",
       "      <th>maximum_age</th>\n",
       "      <th>healthy_volunteers</th>\n",
       "      <th>population</th>\n",
       "      <th>criteria</th>\n",
       "      <th>gender_description</th>\n",
       "      <th>gender_based</th>\n",
       "    </tr>\n",
       "  </thead>\n",
       "  <tbody>\n",
       "    <tr>\n",
       "      <th>0</th>\n",
       "      <td>4287621</td>\n",
       "      <td>NCT04464980</td>\n",
       "      <td>NaN</td>\n",
       "      <td>All</td>\n",
       "      <td>18 Years</td>\n",
       "      <td>NaN</td>\n",
       "      <td>No</td>\n",
       "      <td>NaN</td>\n",
       "      <td>~       Inclusion Criteria for Retention Phase...</td>\n",
       "      <td>NaN</td>\n",
       "      <td>NaN</td>\n",
       "    </tr>\n",
       "    <tr>\n",
       "      <th>1</th>\n",
       "      <td>4287622</td>\n",
       "      <td>NCT04464967</td>\n",
       "      <td>NaN</td>\n",
       "      <td>All</td>\n",
       "      <td>18 Years</td>\n",
       "      <td>75 Years</td>\n",
       "      <td>No</td>\n",
       "      <td>NaN</td>\n",
       "      <td>~       Inclusion Criteria:~          -  Capab...</td>\n",
       "      <td>NaN</td>\n",
       "      <td>NaN</td>\n",
       "    </tr>\n",
       "    <tr>\n",
       "      <th>2</th>\n",
       "      <td>4295848</td>\n",
       "      <td>NCT04357873</td>\n",
       "      <td>NaN</td>\n",
       "      <td>All</td>\n",
       "      <td>18 Years</td>\n",
       "      <td>NaN</td>\n",
       "      <td>No</td>\n",
       "      <td>NaN</td>\n",
       "      <td>~       Inclusion Criteria:~          1. Aged ...</td>\n",
       "      <td>NaN</td>\n",
       "      <td>NaN</td>\n",
       "    </tr>\n",
       "    <tr>\n",
       "      <th>3</th>\n",
       "      <td>4293842</td>\n",
       "      <td>NCT04384016</td>\n",
       "      <td>NaN</td>\n",
       "      <td>All</td>\n",
       "      <td>12 Months</td>\n",
       "      <td>12 Years</td>\n",
       "      <td>Accepts Healthy Volunteers</td>\n",
       "      <td>NaN</td>\n",
       "      <td>~       Inclusion Criteria:~          -  Child...</td>\n",
       "      <td>NaN</td>\n",
       "      <td>NaN</td>\n",
       "    </tr>\n",
       "    <tr>\n",
       "      <th>4</th>\n",
       "      <td>4299025</td>\n",
       "      <td>NCT04316442</td>\n",
       "      <td>NaN</td>\n",
       "      <td>All</td>\n",
       "      <td>18 Years</td>\n",
       "      <td>NaN</td>\n",
       "      <td>No</td>\n",
       "      <td>NaN</td>\n",
       "      <td>~       Inclusion Criteria:~          1. Confi...</td>\n",
       "      <td>NaN</td>\n",
       "      <td>NaN</td>\n",
       "    </tr>\n",
       "  </tbody>\n",
       "</table>\n",
       "</div>"
      ],
      "text/plain": [
       "        id       nct_id sampling_method gender minimum_age maximum_age  \\\n",
       "0  4287621  NCT04464980             NaN    All    18 Years         NaN   \n",
       "1  4287622  NCT04464967             NaN    All    18 Years    75 Years   \n",
       "2  4295848  NCT04357873             NaN    All    18 Years         NaN   \n",
       "3  4293842  NCT04384016             NaN    All   12 Months    12 Years   \n",
       "4  4299025  NCT04316442             NaN    All    18 Years         NaN   \n",
       "\n",
       "           healthy_volunteers population  \\\n",
       "0                          No        NaN   \n",
       "1                          No        NaN   \n",
       "2                          No        NaN   \n",
       "3  Accepts Healthy Volunteers        NaN   \n",
       "4                          No        NaN   \n",
       "\n",
       "                                            criteria gender_description  \\\n",
       "0  ~       Inclusion Criteria for Retention Phase...                NaN   \n",
       "1  ~       Inclusion Criteria:~          -  Capab...                NaN   \n",
       "2  ~       Inclusion Criteria:~          1. Aged ...                NaN   \n",
       "3  ~       Inclusion Criteria:~          -  Child...                NaN   \n",
       "4  ~       Inclusion Criteria:~          1. Confi...                NaN   \n",
       "\n",
       "  gender_based  \n",
       "0          NaN  \n",
       "1          NaN  \n",
       "2          NaN  \n",
       "3          NaN  \n",
       "4          NaN  "
      ]
     },
     "execution_count": 6,
     "metadata": {},
     "output_type": "execute_result"
    }
   ],
   "source": [
    "df.head()"
   ]
  },
  {
   "cell_type": "code",
   "execution_count": 7,
   "metadata": {},
   "outputs": [
    {
     "data": {
      "text/html": [
       "<div>\n",
       "<style scoped>\n",
       "    .dataframe tbody tr th:only-of-type {\n",
       "        vertical-align: middle;\n",
       "    }\n",
       "\n",
       "    .dataframe tbody tr th {\n",
       "        vertical-align: top;\n",
       "    }\n",
       "\n",
       "    .dataframe thead th {\n",
       "        text-align: right;\n",
       "    }\n",
       "</style>\n",
       "<table border=\"1\" class=\"dataframe\">\n",
       "  <thead>\n",
       "    <tr style=\"text-align: right;\">\n",
       "      <th></th>\n",
       "      <th>nct_id</th>\n",
       "      <th>criteria</th>\n",
       "    </tr>\n",
       "  </thead>\n",
       "  <tbody>\n",
       "    <tr>\n",
       "      <th>0</th>\n",
       "      <td>NCT04464980</td>\n",
       "      <td>~       Inclusion Criteria for Retention Phase...</td>\n",
       "    </tr>\n",
       "    <tr>\n",
       "      <th>1</th>\n",
       "      <td>NCT04464967</td>\n",
       "      <td>~       Inclusion Criteria:~          -  Capab...</td>\n",
       "    </tr>\n",
       "    <tr>\n",
       "      <th>2</th>\n",
       "      <td>NCT04357873</td>\n",
       "      <td>~       Inclusion Criteria:~          1. Aged ...</td>\n",
       "    </tr>\n",
       "    <tr>\n",
       "      <th>3</th>\n",
       "      <td>NCT04384016</td>\n",
       "      <td>~       Inclusion Criteria:~          -  Child...</td>\n",
       "    </tr>\n",
       "    <tr>\n",
       "      <th>4</th>\n",
       "      <td>NCT04316442</td>\n",
       "      <td>~       Inclusion Criteria:~          1. Confi...</td>\n",
       "    </tr>\n",
       "  </tbody>\n",
       "</table>\n",
       "</div>"
      ],
      "text/plain": [
       "        nct_id                                           criteria\n",
       "0  NCT04464980  ~       Inclusion Criteria for Retention Phase...\n",
       "1  NCT04464967  ~       Inclusion Criteria:~          -  Capab...\n",
       "2  NCT04357873  ~       Inclusion Criteria:~          1. Aged ...\n",
       "3  NCT04384016  ~       Inclusion Criteria:~          -  Child...\n",
       "4  NCT04316442  ~       Inclusion Criteria:~          1. Confi..."
      ]
     },
     "execution_count": 7,
     "metadata": {},
     "output_type": "execute_result"
    }
   ],
   "source": [
    "df[['nct_id','criteria']].head()"
   ]
  },
  {
   "cell_type": "code",
   "execution_count": 8,
   "metadata": {},
   "outputs": [
    {
     "data": {
      "text/plain": [
       "(349610, 11)"
      ]
     },
     "execution_count": 8,
     "metadata": {},
     "output_type": "execute_result"
    }
   ],
   "source": [
    "df.shape"
   ]
  },
  {
   "cell_type": "code",
   "execution_count": 21,
   "metadata": {},
   "outputs": [],
   "source": [
    "cancer_related = [ 'cancer' in str(item) for item in df['criteria']]"
   ]
  },
  {
   "cell_type": "code",
   "execution_count": 49,
   "metadata": {},
   "outputs": [],
   "source": [
    "df_sample = df[cancer_related]"
   ]
  },
  {
   "cell_type": "code",
   "execution_count": 50,
   "metadata": {},
   "outputs": [
    {
     "data": {
      "text/plain": [
       "(68891, 11)"
      ]
     },
     "execution_count": 50,
     "metadata": {},
     "output_type": "execute_result"
    }
   ],
   "source": [
    "df_sample.shape"
   ]
  },
  {
   "cell_type": "code",
   "execution_count": 51,
   "metadata": {},
   "outputs": [],
   "source": [
    "df_sample = df_sample[:10000]"
   ]
  },
  {
   "cell_type": "code",
   "execution_count": 52,
   "metadata": {},
   "outputs": [
    {
     "data": {
      "text/plain": [
       "(10000, 11)"
      ]
     },
     "execution_count": 52,
     "metadata": {},
     "output_type": "execute_result"
    }
   ],
   "source": [
    "# df_sample = df_sample.dropna()\n",
    "df_sample.shape"
   ]
  },
  {
   "cell_type": "code",
   "execution_count": 53,
   "metadata": {},
   "outputs": [
    {
     "data": {
      "text/plain": [
       "Index(['id', 'nct_id', 'sampling_method', 'gender', 'minimum_age',\n",
       "       'maximum_age', 'healthy_volunteers', 'population', 'criteria',\n",
       "       'gender_description', 'gender_based'],\n",
       "      dtype='object')"
      ]
     },
     "execution_count": 53,
     "metadata": {},
     "output_type": "execute_result"
    }
   ],
   "source": [
    "df_sample.columns"
   ]
  },
  {
   "cell_type": "code",
   "execution_count": 54,
   "metadata": {},
   "outputs": [],
   "source": [
    "criteria = df_sample[['criteria','nct_id']]"
   ]
  },
  {
   "cell_type": "code",
   "execution_count": 55,
   "metadata": {},
   "outputs": [
    {
     "data": {
      "text/plain": [
       "(10000, 2)"
      ]
     },
     "execution_count": 55,
     "metadata": {},
     "output_type": "execute_result"
    }
   ],
   "source": [
    "criteria = criteria.dropna()\n",
    "criteria.shape"
   ]
  },
  {
   "cell_type": "code",
   "execution_count": 56,
   "metadata": {},
   "outputs": [],
   "source": [
    "def extract_criteria_text(text):\n",
    "    text =text.replace('~',' ')\n",
    "    text =text.replace('  ',' ')\n",
    "    inc_ind = text.lower().find('inclusion criteria')\n",
    "    exc_ind = text.lower().find('exclusion criteria')\n",
    "    inc_cri = text[inc_ind:exc_ind]\n",
    "    exc_cri = text[exc_ind:-1]\n",
    "    return([inc_cri,exc_cri])\n",
    "    "
   ]
  },
  {
   "cell_type": "code",
   "execution_count": 57,
   "metadata": {},
   "outputs": [],
   "source": [
    "def extract_criteria(sample_criteria):\n",
    "\n",
    "#     if(type(sample_criteria)==float):\n",
    "#         print(sample_criteria)\n",
    "        \n",
    "    \n",
    "    sample_criteria =sample_criteria.replace('~',' ')\n",
    "    sample_criteria =sample_criteria.replace('  ',' ')\n",
    "    doc = nlp.make_doc(sample_criteria)\n",
    "    \n",
    "\n",
    "    # pattern1 = [{\"LIKE_NUM\": True}, {\"TEXT\": \".\"}]\n",
    "    pattern2 = [{\"LOWER\":\"inclusion\"},{\"LOWER\":\"criteria\"}]\n",
    "    pattern3 = [{\"LOWER\":\"exclusion\"},{\"LOWER\":\"criteria\"}]\n",
    "    # matcher.add('startWord', None, pattern1)\n",
    "    # matcher.remove('startWord')\n",
    "    matcher.add('topicWord', None, pattern2,pattern3)\n",
    "    \n",
    "    matches = matcher(doc)\n",
    "#     for matchid,start,end in matches:\n",
    "#         print(matchid,start,end)\n",
    "    inc_start = 0\n",
    "    inc_end = 0\n",
    "    exc_start = 0\n",
    "    exc_end = 0\n",
    "\n",
    "    if len(matches) == 2:\n",
    "\n",
    "        match_id,start,end = matches[0]\n",
    "        inc_start = end + 1\n",
    "\n",
    "        match_id,start,end = matches[1]\n",
    "        inc_end = start - 1\n",
    "        exc_start = end + 1\n",
    "        exc_end = len(doc)\n",
    "\n",
    "#     print(inc_start, inc_end, exc_start, exc_end)\n",
    "    inclusion_criteria = Span(doc, inc_start, inc_end)\n",
    "    exclusion_criteria = Span(doc, exc_start, exc_end)\n",
    "#     print(inclusion_criteria.text)\n",
    "#     print(exclusion_criteria.text)\n",
    "    return([inclusion_criteria,exclusion_criteria])"
   ]
  },
  {
   "cell_type": "code",
   "execution_count": 58,
   "metadata": {},
   "outputs": [],
   "source": [
    "#sample_criteria = criteria[5]"
   ]
  },
  {
   "cell_type": "code",
   "execution_count": 59,
   "metadata": {},
   "outputs": [],
   "source": [
    "#extracted_criteria = extract_criteria(sample_criteria)\n"
   ]
  },
  {
   "cell_type": "markdown",
   "metadata": {},
   "source": [
    "extracted_criterias = list(map(extract_criteria,criteria['criteria']))"
   ]
  },
  {
   "cell_type": "code",
   "execution_count": 60,
   "metadata": {},
   "outputs": [],
   "source": [
    "extracted_criterias = list(map(extract_criteria_text,criteria['criteria']))"
   ]
  },
  {
   "cell_type": "code",
   "execution_count": 61,
   "metadata": {},
   "outputs": [
    {
     "data": {
      "text/plain": [
       "10000"
      ]
     },
     "execution_count": 61,
     "metadata": {},
     "output_type": "execute_result"
    }
   ],
   "source": [
    "type(extracted_criterias)\n",
    "len(extracted_criterias)"
   ]
  },
  {
   "cell_type": "code",
   "execution_count": 62,
   "metadata": {},
   "outputs": [],
   "source": [
    "criteria_df = pd.DataFrame(extracted_criterias,columns=['inclusion','exclusion'])"
   ]
  },
  {
   "cell_type": "code",
   "execution_count": 63,
   "metadata": {},
   "outputs": [
    {
     "name": "stdout",
     "output_type": "stream",
     "text": [
      "(10000, 2)\n",
      "(10000, 2)\n"
     ]
    }
   ],
   "source": [
    "print(criteria_df.shape)\n",
    "print(criteria.shape)"
   ]
  },
  {
   "cell_type": "code",
   "execution_count": 64,
   "metadata": {},
   "outputs": [],
   "source": [
    "new_df = pd.concat([criteria['nct_id'] , criteria_df],axis = 1)"
   ]
  },
  {
   "cell_type": "code",
   "execution_count": 65,
   "metadata": {},
   "outputs": [
    {
     "data": {
      "text/plain": [
       "(18400, 3)"
      ]
     },
     "execution_count": 65,
     "metadata": {},
     "output_type": "execute_result"
    }
   ],
   "source": [
    "new_df.shape"
   ]
  },
  {
   "cell_type": "code",
   "execution_count": 66,
   "metadata": {},
   "outputs": [],
   "source": [
    "new_df.to_csv('extracted_criteria.csv',sep = '|')"
   ]
  },
  {
   "cell_type": "code",
   "execution_count": 71,
   "metadata": {},
   "outputs": [
    {
     "data": {
      "text/plain": [
       "0        False\n",
       "1        False\n",
       "2        False\n",
       "3        False\n",
       "4        False\n",
       "         ...  \n",
       "56765    False\n",
       "56784    False\n",
       "56787    False\n",
       "56788    False\n",
       "56789    False\n",
       "Name: nct_id, Length: 18400, dtype: bool"
      ]
     },
     "execution_count": 71,
     "metadata": {},
     "output_type": "execute_result"
    }
   ],
   "source": [
    "new_df.nct_id == 'NaN'"
   ]
  },
  {
   "cell_type": "code",
   "execution_count": 72,
   "metadata": {},
   "outputs": [],
   "source": [
    "clean_df = new_df.dropna()"
   ]
  },
  {
   "cell_type": "code",
   "execution_count": 73,
   "metadata": {},
   "outputs": [
    {
     "data": {
      "text/plain": [
       "(1600, 3)"
      ]
     },
     "execution_count": 73,
     "metadata": {},
     "output_type": "execute_result"
    }
   ],
   "source": [
    "clean_df.shape"
   ]
  },
  {
   "cell_type": "code",
   "execution_count": 74,
   "metadata": {},
   "outputs": [
    {
     "data": {
      "text/html": [
       "<div>\n",
       "<style scoped>\n",
       "    .dataframe tbody tr th:only-of-type {\n",
       "        vertical-align: middle;\n",
       "    }\n",
       "\n",
       "    .dataframe tbody tr th {\n",
       "        vertical-align: top;\n",
       "    }\n",
       "\n",
       "    .dataframe thead th {\n",
       "        text-align: right;\n",
       "    }\n",
       "</style>\n",
       "<table border=\"1\" class=\"dataframe\">\n",
       "  <thead>\n",
       "    <tr style=\"text-align: right;\">\n",
       "      <th></th>\n",
       "      <th>nct_id</th>\n",
       "      <th>inclusion</th>\n",
       "      <th>exclusion</th>\n",
       "    </tr>\n",
       "  </thead>\n",
       "  <tbody>\n",
       "    <tr>\n",
       "      <th>1</th>\n",
       "      <td>NCT04464967</td>\n",
       "      <td>Inclusion Criteria:      1. Aged ≥18 years old...</td>\n",
       "      <td>Exclusion Criteria:      1. Prior treatment wi...</td>\n",
       "    </tr>\n",
       "    <tr>\n",
       "      <th>2</th>\n",
       "      <td>NCT04357873</td>\n",
       "      <td>Inclusion Criteria:      1. Confirmed diagnosi...</td>\n",
       "      <td>Exclusion Criteria:      1. Isolated vascular ...</td>\n",
       "    </tr>\n",
       "    <tr>\n",
       "      <th>4</th>\n",
       "      <td>NCT04316442</td>\n",
       "      <td>Inclusion Criteria:      - Signed informed con...</td>\n",
       "      <td>Exclusion Criteria:      - Has a known hyperse...</td>\n",
       "    </tr>\n",
       "    <tr>\n",
       "      <th>5</th>\n",
       "      <td>NCT04240054</td>\n",
       "      <td>Inclusion Criteria:      1. Patients with acut...</td>\n",
       "      <td>Exclusion Criteria:      1. Patients with othe...</td>\n",
       "    </tr>\n",
       "    <tr>\n",
       "      <th>7</th>\n",
       "      <td>NCT04217798</td>\n",
       "      <td>Inclusion Criteria:      1. Histological diagn...</td>\n",
       "      <td>Exclusion Criteria:      1. Prior chemotherapy...</td>\n",
       "    </tr>\n",
       "  </tbody>\n",
       "</table>\n",
       "</div>"
      ],
      "text/plain": [
       "        nct_id                                          inclusion  \\\n",
       "1  NCT04464967  Inclusion Criteria:      1. Aged ≥18 years old...   \n",
       "2  NCT04357873  Inclusion Criteria:      1. Confirmed diagnosi...   \n",
       "4  NCT04316442  Inclusion Criteria:      - Signed informed con...   \n",
       "5  NCT04240054  Inclusion Criteria:      1. Patients with acut...   \n",
       "7  NCT04217798  Inclusion Criteria:      1. Histological diagn...   \n",
       "\n",
       "                                           exclusion  \n",
       "1  Exclusion Criteria:      1. Prior treatment wi...  \n",
       "2  Exclusion Criteria:      1. Isolated vascular ...  \n",
       "4  Exclusion Criteria:      - Has a known hyperse...  \n",
       "5  Exclusion Criteria:      1. Patients with othe...  \n",
       "7  Exclusion Criteria:      1. Prior chemotherapy...  "
      ]
     },
     "execution_count": 74,
     "metadata": {},
     "output_type": "execute_result"
    }
   ],
   "source": [
    "clean_df.head()"
   ]
  },
  {
   "cell_type": "code",
   "execution_count": 75,
   "metadata": {},
   "outputs": [],
   "source": [
    "clean_df.to_csv('extracted_criteria_with_nct.csv',sep = '|')"
   ]
  },
  {
   "cell_type": "code",
   "execution_count": null,
   "metadata": {},
   "outputs": [],
   "source": []
  }
 ],
 "metadata": {
  "kernelspec": {
   "display_name": "Python 3",
   "language": "python",
   "name": "python3"
  },
  "language_info": {
   "codemirror_mode": {
    "name": "ipython",
    "version": 3
   },
   "file_extension": ".py",
   "mimetype": "text/x-python",
   "name": "python",
   "nbconvert_exporter": "python",
   "pygments_lexer": "ipython3",
   "version": "3.7.7"
  }
 },
 "nbformat": 4,
 "nbformat_minor": 4
}
